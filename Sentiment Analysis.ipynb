{
 "cells": [
  {
   "cell_type": "markdown",
   "metadata": {},
   "source": [
    "# NLTK sentiment analysis of article sentences"
   ]
  },
  {
   "cell_type": "markdown",
   "metadata": {},
   "source": [
    "Import packages and import data"
   ]
  },
  {
   "cell_type": "code",
   "execution_count": 112,
   "metadata": {},
   "outputs": [],
   "source": [
    "import pandas as pd\n",
    "import nltk\n",
    "from nltk.tokenize import wordpunct_tokenize\n",
    "from string import punctuation\n",
    "from nltk.corpus import stopwords"
   ]
  },
  {
   "cell_type": "code",
   "execution_count": 11,
   "metadata": {},
   "outputs": [],
   "source": [
    "data = pd.read_csv('data/sentiment_test.csv')"
   ]
  },
  {
   "cell_type": "markdown",
   "metadata": {},
   "source": [
    "### 1. Pre-processing"
   ]
  },
  {
   "cell_type": "code",
   "execution_count": 413,
   "metadata": {},
   "outputs": [],
   "source": [
    "# setup\n",
    "sentences = data['article_text']"
   ]
  },
  {
   "cell_type": "code",
   "execution_count": 414,
   "metadata": {},
   "outputs": [],
   "source": [
    "# lowercase everything\n",
    "sentences = [sentences.lower() for sentences in sentences]\n",
    "\n",
    "# remove punctuation\n",
    "sentences = [s.replace(\"’s\",'') for s in sentences] # remove apostrophe s first\n",
    "sentences = [re.sub(r'[^\\w\\s]','',s) for s in sentences]\n",
    "\n",
    "# tokenize - bag of words\n",
    "bag_of_words = []\n",
    "\n",
    "for item in sentences:\n",
    "    item = wordpunct_tokenize(item)\n",
    "    bag_of_words.append(item)\n",
    "    \n",
    "sentences = bag_of_words\n",
    "\n",
    "# remove stopwords\n",
    "no_stops = []\n",
    "for sentence in sentences:\n",
    "    sentence = [word for word in sentence if word not in stopwords.words('english')]\n",
    "    no_stops.append(sentence)\n",
    "\n",
    "sentences = no_stops"
   ]
  },
  {
   "cell_type": "code",
   "execution_count": null,
   "metadata": {},
   "outputs": [],
   "source": [
    "#features"
   ]
  }
 ],
 "metadata": {
  "kernelspec": {
   "display_name": "Python 3",
   "language": "python",
   "name": "python3"
  },
  "language_info": {
   "codemirror_mode": {
    "name": "ipython",
    "version": 3
   },
   "file_extension": ".py",
   "mimetype": "text/x-python",
   "name": "python",
   "nbconvert_exporter": "python",
   "pygments_lexer": "ipython3",
   "version": "3.7.4"
  }
 },
 "nbformat": 4,
 "nbformat_minor": 2
}
