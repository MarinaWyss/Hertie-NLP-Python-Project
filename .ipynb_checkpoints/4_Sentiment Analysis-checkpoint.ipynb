{
 "cells": [
  {
   "cell_type": "markdown",
   "metadata": {},
   "source": [
    "# Sentiment Analysis"
   ]
  },
  {
   "cell_type": "markdown",
   "metadata": {},
   "source": [
    "Import packages and import data"
   ]
  },
  {
   "cell_type": "code",
   "execution_count": 160,
   "metadata": {},
   "outputs": [],
   "source": [
    "import pandas as pd\n",
    "import nltk\n",
    "from nltk.tokenize import wordpunct_tokenize\n",
    "from string import punctuation\n",
    "from nltk.corpus import stopwords\n",
    "import re\n",
    "from matplotlib import pyplot as plt\n",
    "import numpy as np"
   ]
  },
  {
   "cell_type": "code",
   "execution_count": 161,
   "metadata": {},
   "outputs": [],
   "source": [
    "data = pd.read_csv('data/sentiment_test.csv')"
   ]
  },
  {
   "cell_type": "markdown",
   "metadata": {},
   "source": [
    "### Pre-processing Data"
   ]
  },
  {
   "cell_type": "code",
   "execution_count": 162,
   "metadata": {},
   "outputs": [],
   "source": [
    "# setup\n",
    "sentences = data['article_text']"
   ]
  },
  {
   "cell_type": "markdown",
   "metadata": {},
   "source": [
    "Remove punctuation, numbers, stopwords and make lowercase w/out tokenization by word"
   ]
  },
  {
   "cell_type": "code",
   "execution_count": 163,
   "metadata": {},
   "outputs": [],
   "source": [
    "# lowercase everything\n",
    "sentences = [sentences.lower() for sentences in sentences]\n",
    "\n",
    "# remove punctuation\n",
    "sentences = [s.replace(\"’s\",'') for s in sentences] # remove apostrophe s first\n",
    "sentences = [re.sub(r'[^\\w\\s]','',s) for s in sentences]\n",
    "\n",
    "# remove numbers\n",
    "sentences = [re.sub('[0-9]','', s) for s in sentences]\n",
    "\n",
    "# remove double space\n",
    "sentences = [s.replace(\"  \",' ') for s in sentences]\n",
    "\n",
    "# remove stopwords\n",
    "clean = []\n",
    "for item in sentences:\n",
    "    for word in stopwords.words('english'):\n",
    "        item = item.replace(\" \" + word + \" \", ' ')\n",
    "    clean.append(item)\n",
    "\n",
    "data['article_text_clean'] = clean\n",
    "\n",
    "# tokenize - bag of words\n",
    "#bag_of_words = []\n",
    "#for item in clean:\n",
    "    #item = wordpunct_tokenize(item)\n",
    "    #bag_of_words.append(item)"
   ]
  },
  {
   "cell_type": "code",
   "execution_count": 164,
   "metadata": {},
   "outputs": [
    {
     "name": "stdout",
     "output_type": "stream",
     "text": [
      "Pre-cleaned text:  Biden’s victory in ten out of 14 states that voted on Tuesday put new life into a campaign that was left for dead just weeks before when Sen\n",
      "\n",
      "Cleaned text:  biden victory ten states voted tuesday put new life campaign left dead weeks sen\n"
     ]
    }
   ],
   "source": [
    "print(\"Pre-cleaned text:\", data['article_text'][300] + '\\n')\n",
    "print(\"Cleaned text:\", data['article_text_clean'][300])"
   ]
  },
  {
   "cell_type": "markdown",
   "metadata": {},
   "source": [
    "### 1. Rule/Lexicon-based methods"
   ]
  },
  {
   "cell_type": "markdown",
   "metadata": {},
   "source": [
    "- Lexicon-based: count number of positive and negative words in given text and the larger count will be the sentiment of text.\n",
    "- Helpful article that breaks down the many different approaches: https://towardsdatascience.com/fine-grained-sentiment-analysis-in-python-part-1-2697bb111ed4"
   ]
  },
  {
   "cell_type": "markdown",
   "metadata": {},
   "source": [
    "a) TextBlob: Simple rule-based API for sentiment analysis\n",
    "- Uses a sentiment lexicon (consisting of predefined words) to assign scores for each word, which are then averaged out using a weighted average to give an overall sentence sentiment score.\n",
    "- Return a tuple of form (polarity, subjectivity ) where polarity is a float within the range [-1.0, 1.0] and subjectivity is a float within the range [0.0, 1.0] where 0.0 is very objective and 1.0 is very subjective.\n",
    "- Documentation: https://textblob.readthedocs.io/en/dev/quickstart.html"
   ]
  },
  {
   "cell_type": "code",
   "execution_count": 165,
   "metadata": {},
   "outputs": [
    {
     "name": "stdout",
     "output_type": "stream",
     "text": [
      " biden victory ten states voted tuesday put new life campaign left dead weeks sen\n"
     ]
    }
   ],
   "source": [
    "# import packages\n",
    "from textblob import TextBlob\n",
    "\n",
    "# setup\n",
    "text = data['article_text_clean']\n",
    "\n",
    "print(text[300])"
   ]
  },
  {
   "cell_type": "code",
   "execution_count": 177,
   "metadata": {},
   "outputs": [],
   "source": [
    "score = []\n",
    "for sentence in text:\n",
    "    sentence = TextBlob(sentence)\n",
    "    x = sentence.sentiment\n",
    "    x = sentence.sentiment.polarity\n",
    "    score.append(x)\n",
    "\n",
    "data['score'] = score\n",
    "\n",
    "# Convert float score to category based on binning to get 5 levels\n",
    "data['sentiment'] = pd.cut(data['score'],\n",
    "                    bins=5,\n",
    "                    labels=[1, 2, 3, 4, 5])\n",
    "data['sentiment'] = pd.to_numeric(data['sentiment'])\n",
    "data = data.drop('score', axis=1)"
   ]
  },
  {
   "cell_type": "code",
   "execution_count": 167,
   "metadata": {},
   "outputs": [
    {
     "name": "stdout",
     "output_type": "stream",
     "text": [
      "3\n"
     ]
    }
   ],
   "source": [
    "print(data['sentiment'][300])"
   ]
  },
  {
   "cell_type": "code",
   "execution_count": 275,
   "metadata": {},
   "outputs": [
    {
     "name": "stdout",
     "output_type": "stream",
     "text": [
      "          publisher  sentiment\n",
      "0                AP   3.149310\n",
      "1         Breitbart   3.124031\n",
      "2               Fox   3.132970\n",
      "3          buzzfeed   3.184232\n",
      "4               nbc   3.195496\n",
      "5    new_york_times   3.099262\n",
      "6          politico   3.118523\n",
      "7  washington_times   3.087702\n"
     ]
    }
   ],
   "source": [
    "# get average sentiment per publisher\n",
    "publishers = data.groupby('publisher')['sentiment'].mean().reset_index()"
   ]
  },
  {
   "cell_type": "code",
   "execution_count": 289,
   "metadata": {},
   "outputs": [],
   "source": [
    "# AP sentiment\n",
    "AP = data.loc[data['publisher'] == \"AP\"]\n",
    "AP_sent = AP['sentiment'].sort_values(ascending=True)\n",
    "# get sentiment counts\n",
    "AP_sent_count = AP_sent.value_counts().sort_index()\n",
    "# get percent per sentiment category\n",
    "AP_1 = AP_sent_count[1]/len(AP_sent)\n",
    "AP_2 = AP_sent_count[2]/len(AP_sent)\n",
    "AP_3 = AP_sent_count[3]/len(AP_sent)\n",
    "AP_4 = AP_sent_count[4]/len(AP_sent)\n",
    "AP_5 = AP_sent_count[5]/len(AP_sent)\n",
    "\n",
    "# Breitbart sentiment\n",
    "Breitbart = data.loc[data['publisher'] == \"Breitbart\"]\n",
    "Breitbart_sent = Breitbart['sentiment'].sort_values(ascending=True)\n",
    "# get sentiment counts\n",
    "Breitbart_sent_count = Breitbart_sent.value_counts().sort_index()\n",
    "# get percent per sentiment category\n",
    "Breitbart_1 = Breitbart_sent_count[1]/len(Breitbart_sent)\n",
    "Breitbart_2 = Breitbart_sent_count[2]/len(Breitbart_sent)\n",
    "Breitbart_3 = Breitbart_sent_count[3]/len(Breitbart_sent)\n",
    "Breitbart_4 = Breitbart_sent_count[4]/len(Breitbart_sent)\n",
    "Breitbart_5 = Breitbart_sent_count[5]/len(Breitbart_sent)\n",
    "\n",
    "# Fox sentiment\n",
    "Fox = data.loc[data['publisher'] == \"Fox\"]\n",
    "Fox_sent = Fox['sentiment'].sort_values(ascending=True)\n",
    "# get sentiment counts\n",
    "Fox_sent_count = Fox_sent.value_counts().sort_index()\n",
    "# get percent per sentiment category\n",
    "Fox_1 = Fox_sent_count[1]/len(Fox_sent)\n",
    "Fox_2 = Fox_sent_count[2]/len(Fox_sent)\n",
    "Fox_3 = Fox_sent_count[3]/len(Fox_sent)\n",
    "Fox_4 = Fox_sent_count[4]/len(Fox_sent)\n",
    "Fox_5 = Fox_sent_count[5]/len(Fox_sent)\n",
    "\n",
    "# Buzzfeed sentiment\n",
    "buzzfeed = data.loc[data['publisher'] == \"buzzfeed\"]\n",
    "buzzfeed_sent = buzzfeed['sentiment'].sort_values(ascending=True)\n",
    "# get sentiment counts\n",
    "buzzfeed_sent_count = buzzfeed_sent.value_counts().sort_index()\n",
    "# get percent per sentiment category\n",
    "buzzfeed_1 = buzzfeed_sent_count[1]/len(buzzfeed_sent)\n",
    "buzzfeed_2 = buzzfeed_sent_count[2]/len(buzzfeed_sent)\n",
    "buzzfeed_3 = buzzfeed_sent_count[3]/len(buzzfeed_sent)\n",
    "buzzfeed_4 = buzzfeed_sent_count[4]/len(buzzfeed_sent)\n",
    "buzzfeed_5 = buzzfeed_sent_count[5]/len(buzzfeed_sent)\n",
    "\n",
    "# NBC\n",
    "nbc = data.loc[data['publisher'] == \"nbc\"]\n",
    "nbc_sent = nbc['sentiment'].sort_values(ascending=True)\n",
    "# get sentiment counts\n",
    "nbc_sent_count = nbc_sent.value_counts().sort_index()\n",
    "# get percent per sentiment category\n",
    "nbc_1 = nbc_sent_count[1]/len(nbc_sent)\n",
    "nbc_2 = nbc_sent_count[2]/len(nbc_sent)\n",
    "nbc_3 = nbc_sent_count[3]/len(nbc_sent)\n",
    "nbc_4 = nbc_sent_count[4]/len(nbc_sent)\n",
    "nbc_5 = nbc_sent_count[5]/len(nbc_sent)\n",
    "\n",
    "# New York Times\n",
    "new_york_times = data.loc[data['publisher'] == \"new_york_times\"]\n",
    "new_york_times_sent = new_york_times['sentiment'].sort_values(ascending=True)\n",
    "# get sentiment counts\n",
    "new_york_times_sent_count = new_york_times_sent.value_counts().sort_index()\n",
    "# get percent per sentiment category\n",
    "new_york_times_1 = new_york_times_sent_count[1]/len(new_york_times_sent)\n",
    "new_york_times_2 = new_york_times_sent_count[2]/len(new_york_times_sent)\n",
    "new_york_times_3 = new_york_times_sent_count[3]/len(new_york_times_sent)\n",
    "new_york_times_4 = new_york_times_sent_count[4]/len(new_york_times_sent)\n",
    "new_york_times_5 = new_york_times_sent_count[5]/len(new_york_times_sent)\n",
    "\n",
    "# Politico\n",
    "politico = data.loc[data['publisher'] == \"politico\"]\n",
    "politico_sent = politico['sentiment'].sort_values(ascending=True)\n",
    "# get sentiment counts\n",
    "politico_sent_count = politico_sent.value_counts().sort_index()\n",
    "# get percent per sentiment category\n",
    "politico_1 = politico_sent_count[1]/len(politico_sent)\n",
    "politico_2 = politico_sent_count[2]/len(politico_sent)\n",
    "politico_3 = politico_sent_count[3]/len(politico_sent)\n",
    "politico_4 = politico_sent_count[4]/len(politico_sent)\n",
    "politico_5 = politico_sent_count[5]/len(politico_sent)\n",
    "\n",
    "# Washington Times\n",
    "washington_times = data.loc[data['publisher'] == \"washington_times\"]\n",
    "washington_times_sent = washington_times['sentiment'].sort_values(ascending=True)\n",
    "# get sentiment counts\n",
    "washington_times_sent_count = washington_times_sent.value_counts().sort_index()\n",
    "# get percent per sentiment category\n",
    "washington_times_1 = washington_times_sent_count[1]/len(washington_times_sent)\n",
    "washington_times_2 = washington_times_sent_count[2]/len(washington_times_sent)\n",
    "washington_times_3 = washington_times_sent_count[3]/len(washington_times_sent)\n",
    "washington_times_4 = washington_times_sent_count[4]/len(washington_times_sent)\n",
    "washington_times_5 = washington_times_sent_count[5]/len(washington_times_sent)"
   ]
  },
  {
   "cell_type": "code",
   "execution_count": 290,
   "metadata": {},
   "outputs": [
    {
     "data": {
      "text/plain": [
       "(<Figure size 662.4x360 with 1 Axes>,\n",
       " <matplotlib.axes._subplots.AxesSubplot at 0x1a1f17e390>)"
      ]
     },
     "execution_count": 290,
     "metadata": {},
     "output_type": "execute_result"
    },
    {
     "data": {
      "image/png": "[encoded data removed]",
      "text/plain": [
       "<Figure size 662.4x360 with 1 Axes>"
      ]
     },
     "metadata": {
      "needs_background": "light"
     },
     "output_type": "display_data"
    }
   ],
   "source": [
    "# plot sentiment breakdown by publisher\n",
    "category_names = ['Extremely negative', 'Negative','Neutral', 'Positive', 'Extremely positive']\n",
    "publishers = {\n",
    "    'AP': [AP_1, AP_2, AP_3, AP_4, AP_5],\n",
    "    'Breitbart': [Breitbart_1, Breitbart_2, Breitbart_3, Breitbart_4, Breitbart_5],\n",
    "    'Fox': [Fox_1, Fox_2, Fox_3, Fox_4, Fox_5],\n",
    "    'Buzzfeed': [buzzfeed_1, buzzfeed_2, buzzfeed_3, buzzfeed_4, buzzfeed_5],\n",
    "    'NBC': [nbc_1, nbc_2, nbc_3, nbc_4, nbc_5],\n",
    "    'New York Times': [new_york_times_1, new_york_times_2, new_york_times_3, new_york_times_4, new_york_times_5],\n",
    "    'Politico': [politico_1, politico_2, politico_3, politico_4, politico_5],\n",
    "    'Washington Times': [washington_times_1, washington_times_2, washington_times_3, washington_times_4, washington_times_5]\n",
    "}\n",
    "\n",
    "def survey(publishers, category_names):\n",
    "    \"\"\"\n",
    "    Parameters\n",
    "    ----------\n",
    "    results : dict\n",
    "        A mapping from question labels to a list of answers per category.\n",
    "        It is assumed all lists contain the same number of entries and that\n",
    "        it matches the length of *category_names*.\n",
    "    category_names : list of str\n",
    "        The category labels.\n",
    "    \"\"\"\n",
    "    labels = list(publishers.keys())\n",
    "    data = np.array(list(publishers.values()))\n",
    "    data_cum = data.cumsum(axis=1)\n",
    "    category_colors = plt.get_cmap('RdYlGn')(\n",
    "        np.linspace(0.15, 0.85, data.shape[1]))\n",
    "\n",
    "    fig, ax = plt.subplots(figsize=(9.2, 5))\n",
    "    ax.invert_yaxis()\n",
    "    ax.xaxis.set_visible(False)\n",
    "    ax.set_xlim(0, np.sum(data, axis=1).max())\n",
    "\n",
    "    for i, (colname, color) in enumerate(zip(category_names, category_colors)):\n",
    "        widths = data[:, i]\n",
    "        starts = data_cum[:, i] - widths\n",
    "        ax.barh(labels, widths, left=starts, height=0.5,\n",
    "                label=colname, color=color)\n",
    "        xcenters = starts + widths / 2\n",
    "\n",
    "        r, g, b, _ = color\n",
    "        text_color = 'white' if r * g * b < 0.5 else 'darkgrey'\n",
    "        for y, (x, c) in enumerate(zip(xcenters, widths)):\n",
    "            ax.text(x, y, str(int(c)), ha='center', va='center',\n",
    "                    color=text_color)\n",
    "    ax.legend(ncol=len(category_names), bbox_to_anchor=(0, 1),\n",
    "              loc='lower left', fontsize='small')\n",
    "\n",
    "    return fig, ax\n",
    "\n",
    "\n",
    "survey(publishers, category_names)\n",
    "#plt.show()"
   ]
  },
  {
   "cell_type": "code",
   "execution_count": 205,
   "metadata": {},
   "outputs": [],
   "source": [
    "# get average sentiment by candidate and per publisher\n",
    "# total average\n",
    "sent_mean = data['sentiment'].mean()\n",
    "\n",
    "#trump\n",
    "trump = data.loc[data['Trump'] == 1]\n",
    "trump_sent_mean = trump['sentiment'].mean()\n",
    "trump_sentiment = trump.groupby('publisher')['sentiment'].mean().reset_index()\n",
    "\n",
    "#sanders\n",
    "sanders = data.loc[data['Sanders'] == 1]\n",
    "sanders_sent_mean = sanders['sentiment'].mean()\n",
    "sanders_sentiment = sanders.groupby('publisher')['sentiment'].mean().reset_index()\n",
    "\n",
    "#biden\n",
    "biden = data.loc[data['Biden'] == 1]\n",
    "biden_sent_mean = biden['sentiment'].mean()\n",
    "biden_sentiment = biden.groupby('publisher')['sentiment'].mean().reset_index()\n",
    "\n",
    "# warren\n",
    "warren = data.loc[data['Warren'] == 1]\n",
    "warren_sent_mean = warren['sentiment'].mean()\n",
    "warren_sentiment = warren.groupby('publisher')['sentiment'].mean().reset_index()\n",
    "\n",
    "# buttigieg\n",
    "buttigieg = data.loc[data['Buttigieg'] == 1]\n",
    "buttigieg_sent_mean = buttigieg['sentiment'].mean()\n",
    "buttigieg_sentiment = buttigieg.groupby('publisher')['sentiment'].mean().reset_index()\n",
    "\n",
    "# bloomberg\n",
    "bloomberg = data.loc[data['Bloomberg'] == 1]\n",
    "bloomberg_sent_mean = bloomberg['sentiment'].mean()\n",
    "bloomberg_sentiment = bloomberg.groupby('publisher')['sentiment'].mean().reset_index()\n",
    "\n",
    "# klobuchar\n",
    "klobuchar = data.loc[data['Klobuchar'] == 1]\n",
    "klobuchar_sent_mean = klobuchar['sentiment'].mean()\n",
    "klobuchar_sentiment = klobuchar.groupby('publisher')['sentiment'].mean().reset_index()\n",
    "\n",
    "# yang\n",
    "yang = data.loc[data['Yang'] == 1]\n",
    "yang_sent_mean = yang['sentiment'].mean()\n",
    "yang_sentiment = yang.groupby('publisher')['sentiment'].mean().reset_index()\n",
    "\n",
    "# steyer\n",
    "steyer = data.loc[data['Steyer'] == 1]\n",
    "steyer_sent_mean = steyer['sentiment'].mean()\n",
    "steyer_sentiment = steyer.groupby('publisher')['sentiment'].mean().reset_index()\n",
    "\n",
    "# gabbard\n",
    "gabbard = data.loc[data['Gabbard'] == 1]\n",
    "gabbard_sent_mean = gabbard['sentiment'].mean()\n",
    "gabbard_sentiment = gabbard.groupby('publisher')['sentiment'].mean().reset_index()"
   ]
  },
  {
   "cell_type": "code",
   "execution_count": 214,
   "metadata": {},
   "outputs": [
    {
     "data": {
      "image/png": "[encoded data removed]",
      "text/plain": [
       "<Figure size 432x288 with 1 Axes>"
      ]
     },
     "metadata": {
      "needs_background": "light"
     },
     "output_type": "display_data"
    }
   ],
   "source": [
    "sentiment = [trump_sent_mean, sanders_sent_mean, biden_sent_mean, warren_sent_mean, buttigieg_sent_mean, bloomberg_sent_mean, klobuchar_sent_mean, yang_sent_mean, steyer_sent_mean, gabbard_sent_mean]\n",
    "candidates = ('trump', 'sanders', 'biden', 'warren', 'buttigieg', 'bloomberg','klobuchar', 'yang', 'steyer', 'gabbard')\n",
    " \n",
    "plt.bar(candidates, sentiment, color = \"tomato\")\n",
    " \n",
    "plt.xticks(candidates)\n",
    "\n",
    "plt.xticks(rotation=45)\n",
    " \n",
    "plt.show()"
   ]
  },
  {
   "cell_type": "code",
   "execution_count": 215,
   "metadata": {},
   "outputs": [
    {
     "data": {
      "image/png": "[encoded data removed]",
      "text/plain": [
       "<Figure size 432x288 with 1 Axes>"
      ]
     },
     "metadata": {
      "needs_background": "light"
     },
     "output_type": "display_data"
    },
    {
     "name": "stdout",
     "output_type": "stream",
     "text": [
      "average sentiment: 3.132921676958076\n"
     ]
    }
   ],
   "source": [
    "sentiment = [sent_mean - trump_sent_mean,\n",
    "             sent_mean - sanders_sent_mean, \n",
    "             sent_mean - biden_sent_mean, \n",
    "             sent_mean - warren_sent_mean, \n",
    "             sent_mean - buttigieg_sent_mean, \n",
    "             sent_mean - bloomberg_sent_mean, \n",
    "             sent_mean - klobuchar_sent_mean, \n",
    "             sent_mean - yang_sent_mean, \n",
    "             sent_mean - steyer_sent_mean, \n",
    "             sent_mean - gabbard_sent_mean]\n",
    "candidates = ('trump', 'sanders', 'biden', 'warren', 'buttigieg', 'bloomberg','klobuchar', 'yang', 'steyer', 'gabbard')\n",
    " \n",
    "plt.bar(candidates, sentiment, color=\"tomato\")\n",
    " \n",
    "plt.xticks(candidates)\n",
    "\n",
    "plt.xticks(rotation=45)\n",
    " \n",
    "plt.show()\n",
    "print(\"average sentiment:\", sent_mean)"
   ]
  },
  {
   "cell_type": "code",
   "execution_count": 229,
   "metadata": {},
   "outputs": [
    {
     "ename": "IndexError",
     "evalue": "too many indices for array",
     "output_type": "error",
     "traceback": [
      "\u001b[0;31m---------------------------------------------------------------------------\u001b[0m",
      "\u001b[0;31mIndexError\u001b[0m                                Traceback (most recent call last)",
      "\u001b[0;32m<ipython-input-229-2dfffb4b185d>\u001b[0m in \u001b[0;36m<module>\u001b[0;34m\u001b[0m\n\u001b[1;32m      4\u001b[0m \u001b[0moutlet\u001b[0m \u001b[0;34m=\u001b[0m \u001b[0msteyer_sentiment\u001b[0m\u001b[0;34m[\u001b[0m\u001b[0;34m'publisher'\u001b[0m\u001b[0;34m]\u001b[0m\u001b[0;34m\u001b[0m\u001b[0;34m\u001b[0m\u001b[0m\n\u001b[1;32m      5\u001b[0m \u001b[0;34m\u001b[0m\u001b[0m\n\u001b[0;32m----> 6\u001b[0;31m \u001b[0maxs\u001b[0m\u001b[0;34m[\u001b[0m\u001b[0;36m0\u001b[0m\u001b[0;34m,\u001b[0m \u001b[0;36m0\u001b[0m\u001b[0;34m]\u001b[0m\u001b[0;34m.\u001b[0m\u001b[0mplt\u001b[0m\u001b[0;34m.\u001b[0m\u001b[0mbar\u001b[0m\u001b[0;34m(\u001b[0m\u001b[0moutlet\u001b[0m\u001b[0;34m,\u001b[0m \u001b[0msentiment\u001b[0m\u001b[0;34m)\u001b[0m\u001b[0;34m\u001b[0m\u001b[0;34m\u001b[0m\u001b[0m\n\u001b[0m\u001b[1;32m      7\u001b[0m \u001b[0maxs\u001b[0m\u001b[0;34m[\u001b[0m\u001b[0;36m0\u001b[0m\u001b[0;34m,\u001b[0m \u001b[0;36m0\u001b[0m\u001b[0;34m]\u001b[0m\u001b[0;34m.\u001b[0m\u001b[0mplt\u001b[0m\u001b[0;34m.\u001b[0m\u001b[0mxticks\u001b[0m\u001b[0;34m(\u001b[0m\u001b[0moutlet\u001b[0m\u001b[0;34m)\u001b[0m\u001b[0;34m\u001b[0m\u001b[0;34m\u001b[0m\u001b[0m\n\u001b[1;32m      8\u001b[0m \u001b[0maxs\u001b[0m\u001b[0;34m[\u001b[0m\u001b[0;36m0\u001b[0m\u001b[0;34m,\u001b[0m \u001b[0;36m0\u001b[0m\u001b[0;34m]\u001b[0m\u001b[0;34m.\u001b[0m\u001b[0mplt\u001b[0m\u001b[0;34m.\u001b[0m\u001b[0mxticks\u001b[0m\u001b[0;34m(\u001b[0m\u001b[0mrotation\u001b[0m\u001b[0;34m=\u001b[0m\u001b[0;36m45\u001b[0m\u001b[0;34m)\u001b[0m\u001b[0;34m\u001b[0m\u001b[0;34m\u001b[0m\u001b[0m\n",
      "\u001b[0;31mIndexError\u001b[0m: too many indices for array"
     ]
    },
    {
     "data": {
      "text/plain": [
       "<Figure size 432x288 with 0 Axes>"
      ]
     },
     "metadata": {},
     "output_type": "display_data"
    }
   ],
   "source": [
    "fig, axs = plt.subplots(0, 1)\n",
    "\n",
    "sentiment = steyer_sentiment['sentiment']\n",
    "outlet = steyer_sentiment['publisher']\n",
    "\n",
    "axs[0, 0].plt.bar(outlet, sentiment)\n",
    "axs[0, 0].plt.xticks(outlet)\n",
    "axs[0, 0].plt.xticks(rotation=45)\n",
    "axs[0, 0].plt.axhline(y=steyer_sent_mean, color='red', linewidth=2)\n",
    "axs[0, 0].set_title('Steyer')"
   ]
  },
  {
   "cell_type": "code",
   "execution_count": null,
   "metadata": {},
   "outputs": [],
   "source": [
    "# plot each candidate sentiment by publisher\n",
    "fig, axs = plt.subplots(3, 4)\n",
    "\n",
    "# trump\n",
    "axs[0, 0].plot(x, y)\n",
    "axs[0, 0].set_title('Axis [0, 0]')\n",
    "\n",
    "# sanders\n",
    "axs[0, 1].plot(x, y, 'tab:orange')\n",
    "axs[0, 1].set_title('Axis [0, 1]')\n",
    "\n",
    "# biden\n",
    "axs[0, 2].plot(x, y, 'tab:green')\n",
    "axs[0, 2].set_title('Axis [0, 2]')\n",
    "\n",
    "# warren\n",
    "axs[1, 0].plot(x, y, 'tab:red')\n",
    "axs[1, 0].set_title('Axis [1, 0]')\n",
    "\n",
    "# buttigieg\n",
    "axs[1, 1].plot(x, y, 'tab:red')\n",
    "axs[1, 1].set_title('Axis [1, 1]')\n",
    "\n",
    "# bloomberg\n",
    "axs[1, 2].plot(x, y, 'tab:red')\n",
    "axs[1, 2].set_title('Axis [1, 2]')\n",
    "\n",
    "# klobuchar \n",
    "axs[2, 0].plot(x, y, 'tab:red')\n",
    "axs[2, 0].set_title('Axis [2, 0]')\n",
    "\n",
    "# yang \n",
    "axs[2, 1].plot(x, -y, 'tab:red')\n",
    "axs[2, 1].set_title('Axis [2, 1]')\n",
    "\n",
    "# steyer\n",
    "sentiment = steyer_sentiment['sentiment']\n",
    "outlet = steyer_sentiment['publisher']\n",
    "\n",
    "axs[2, 2].plt.bar(outlet, sentiment, color = \"darkcyan\")\n",
    "axs[2, 2].plt.xticks(outlet)\n",
    "axs[2, 2].plt.xticks(rotation=45)\n",
    "axs[2, 2].plt.axhline(y=steyer_sent_mean, color='red', linewidth=2)\n",
    "axs[2, 2].set_title('Steyer')\n",
    "\n",
    "# gabbard\n",
    "axs[3, 0].plot(x, y, 'tab:red')\n",
    "axs[3, 0].set_title('Axis [3, 0]')"
   ]
  },
  {
   "cell_type": "code",
   "execution_count": 227,
   "metadata": {},
   "outputs": [
    {
     "ename": "NameError",
     "evalue": "name 'ax1' is not defined",
     "output_type": "error",
     "traceback": [
      "\u001b[0;31m---------------------------------------------------------------------------\u001b[0m",
      "\u001b[0;31mNameError\u001b[0m                                 Traceback (most recent call last)",
      "\u001b[0;32m<ipython-input-227-181b86b3e9a1>\u001b[0m in \u001b[0;36m<module>\u001b[0;34m\u001b[0m\n\u001b[1;32m      3\u001b[0m \u001b[0moutlet\u001b[0m \u001b[0;34m=\u001b[0m \u001b[0msteyer_sentiment\u001b[0m\u001b[0;34m[\u001b[0m\u001b[0;34m'publisher'\u001b[0m\u001b[0;34m]\u001b[0m\u001b[0;34m\u001b[0m\u001b[0;34m\u001b[0m\u001b[0m\n\u001b[1;32m      4\u001b[0m \u001b[0;34m\u001b[0m\u001b[0m\n\u001b[0;32m----> 5\u001b[0;31m \u001b[0max1\u001b[0m\u001b[0;34m.\u001b[0m\u001b[0mplt\u001b[0m\u001b[0;34m.\u001b[0m\u001b[0mbar\u001b[0m\u001b[0;34m(\u001b[0m\u001b[0moutlet\u001b[0m\u001b[0;34m,\u001b[0m \u001b[0msentiment\u001b[0m\u001b[0;34m,\u001b[0m \u001b[0mcolor\u001b[0m \u001b[0;34m=\u001b[0m \u001b[0;34m\"darkcyan\"\u001b[0m\u001b[0;34m)\u001b[0m\u001b[0;34m\u001b[0m\u001b[0;34m\u001b[0m\u001b[0m\n\u001b[0m\u001b[1;32m      6\u001b[0m \u001b[0max1\u001b[0m\u001b[0;34m.\u001b[0m\u001b[0mplt\u001b[0m\u001b[0;34m.\u001b[0m\u001b[0mxticks\u001b[0m\u001b[0;34m(\u001b[0m\u001b[0moutlet\u001b[0m\u001b[0;34m)\u001b[0m\u001b[0;34m\u001b[0m\u001b[0;34m\u001b[0m\u001b[0m\n\u001b[1;32m      7\u001b[0m \u001b[0max1\u001b[0m\u001b[0;34m.\u001b[0m\u001b[0mplt\u001b[0m\u001b[0;34m.\u001b[0m\u001b[0mxticks\u001b[0m\u001b[0;34m(\u001b[0m\u001b[0mrotation\u001b[0m\u001b[0;34m=\u001b[0m\u001b[0;36m45\u001b[0m\u001b[0;34m)\u001b[0m\u001b[0;34m\u001b[0m\u001b[0;34m\u001b[0m\u001b[0m\n",
      "\u001b[0;31mNameError\u001b[0m: name 'ax1' is not defined"
     ]
    }
   ],
   "source": [
    "# Tom Steyer\n",
    "sentiment = steyer_sentiment['sentiment']\n",
    "outlet = steyer_sentiment['publisher']\n",
    "\n",
    "plt.bar(outlet, sentiment, color = \"darkcyan\") \n",
    "plt.xticks(outlet)\n",
    "plt.xticks(rotation=45)\n",
    "plt.suptitle('Steyer: Sentiment by Publisher', fontsize=16)\n",
    "plt.axhline(y=sent_mean, color='grey', linewidth=2) # add line with candiate average\n",
    "plt.axhline(y=steyer_sent_mean, color='red', linewidth=2) # add line with average of all candidates"
   ]
  },
  {
   "cell_type": "code",
   "execution_count": null,
   "metadata": {},
   "outputs": [],
   "source": [
    "#sentiment over time"
   ]
  },
  {
   "cell_type": "code",
   "execution_count": null,
   "metadata": {},
   "outputs": [],
   "source": [
    "# way to evaulate this?"
   ]
  },
  {
   "cell_type": "markdown",
   "metadata": {},
   "source": [
    "b) VADER: “Valence Aware Dictionary and sEntiment Reasoner”\n",
    "- Parsimonious rule-based model for sentiment analysis of social media text."
   ]
  },
  {
   "cell_type": "code",
   "execution_count": null,
   "metadata": {},
   "outputs": [],
   "source": []
  },
  {
   "cell_type": "code",
   "execution_count": null,
   "metadata": {},
   "outputs": [],
   "source": [
    "# Check F1 score"
   ]
  },
  {
   "cell_type": "markdown",
   "metadata": {},
   "source": [
    "### 2. Feature based methods"
   ]
  },
  {
   "cell_type": "markdown",
   "metadata": {},
   "source": [
    "Logistic Regression: Generalized linear model in Scikit-learn"
   ]
  },
  {
   "cell_type": "code",
   "execution_count": null,
   "metadata": {},
   "outputs": [],
   "source": []
  },
  {
   "cell_type": "markdown",
   "metadata": {},
   "source": [
    "Support Vector Machine: Linear model in Scikit-learn with a stochastic gradient descent (SGD) optimizer for gradient loss."
   ]
  },
  {
   "cell_type": "code",
   "execution_count": null,
   "metadata": {},
   "outputs": [],
   "source": []
  },
  {
   "cell_type": "markdown",
   "metadata": {},
   "source": [
    "### 3. Embedding-based methods"
   ]
  },
  {
   "cell_type": "code",
   "execution_count": 43,
   "metadata": {},
   "outputs": [],
   "source": [
    "import sklearn\n",
    "from sklearn.feature_extraction.text import CountVectorizer"
   ]
  },
  {
   "cell_type": "code",
   "execution_count": 46,
   "metadata": {},
   "outputs": [
    {
     "ename": "SyntaxError",
     "evalue": "invalid syntax (<ipython-input-46-337ab25940ab>, line 3)",
     "output_type": "error",
     "traceback": [
      "\u001b[0;36m  File \u001b[0;32m\"<ipython-input-46-337ab25940ab>\"\u001b[0;36m, line \u001b[0;32m3\u001b[0m\n\u001b[0;31m    vectorizer = CountVectorizer(lowercase=True, stop_words=string{‘english’})\u001b[0m\n\u001b[0m                                                                  ^\u001b[0m\n\u001b[0;31mSyntaxError\u001b[0m\u001b[0;31m:\u001b[0m invalid syntax\n"
     ]
    }
   ],
   "source": [
    "corpus = data['article_text']\n",
    "\n",
    "vectorizer = CountVectorizer(lowercase=True, stop_words=None)\n",
    "X = vectorizer.fit_transform(corpus)\n",
    "print(vectorizer.get_feature_names())"
   ]
  },
  {
   "cell_type": "markdown",
   "metadata": {},
   "source": [
    "FastText: An NLP library that uses highly efficient CPU-based representations of word embeddings for classification tasks."
   ]
  },
  {
   "cell_type": "code",
   "execution_count": null,
   "metadata": {},
   "outputs": [],
   "source": []
  },
  {
   "cell_type": "markdown",
   "metadata": {},
   "source": [
    "Flair: A PyTorch-based framework for NLP tasks such as sequence tagging and classification."
   ]
  },
  {
   "cell_type": "code",
   "execution_count": null,
   "metadata": {},
   "outputs": [],
   "source": []
  },
  {
   "cell_type": "markdown",
   "metadata": {},
   "source": [
    "Hugging Face Transformers: Bert-base-multilingual-uncased-sentiment\n",
    "- Parsimonious rule-based model for sentiment analysis of social media text."
   ]
  },
  {
   "cell_type": "code",
   "execution_count": 1,
   "metadata": {},
   "outputs": [],
   "source": [
    "# in collab for transformers library"
   ]
  },
  {
   "cell_type": "code",
   "execution_count": null,
   "metadata": {},
   "outputs": [],
   "source": [
    "# setup\n",
    "article_text = data['article_text']"
   ]
  },
  {
   "cell_type": "code",
   "execution_count": null,
   "metadata": {},
   "outputs": [],
   "source": [
    "tokenizer = AutoTokenizer.from_pretrained(\"nlptown/bert-base-multilingual-uncased-sentiment\")  \n",
    "model = AutoModelForSequenceClassification.from_pretrained(\"nlptown/bert-base-multilingual-uncased-sentiment\")"
   ]
  }
 ],
 "metadata": {
  "kernelspec": {
   "display_name": "Python 3",
   "language": "python",
   "name": "python3"
  },
  "language_info": {
   "codemirror_mode": {
    "name": "ipython",
    "version": 3
   },
   "file_extension": ".py",
   "mimetype": "text/x-python",
   "name": "python",
   "nbconvert_exporter": "python",
   "pygments_lexer": "ipython3",
   "version": "3.7.4"
  }
 },
 "nbformat": 4,
 "nbformat_minor": 2
}
