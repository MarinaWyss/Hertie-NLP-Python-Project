{
 "cells": [
  {
   "cell_type": "markdown",
   "metadata": {},
   "source": [
    "# Web Scraper Tool for 5 US Media Outlets"
   ]
  },
  {
   "cell_type": "markdown",
   "metadata": {},
   "source": [
    "Import packages"
   ]
  },
  {
   "cell_type": "code",
   "execution_count": 71,
   "metadata": {},
   "outputs": [],
   "source": [
    "# import packages\n",
    "import requests\n",
    "from bs4 import BeautifulSoup\n",
    "\n",
    "import pandas as pd"
   ]
  },
  {
   "cell_type": "markdown",
   "metadata": {},
   "source": [
    "### 1. Breitbart - Very Conservative"
   ]
  },
  {
   "cell_type": "markdown",
   "metadata": {},
   "source": [
    "Get links from the Breitbart homepage"
   ]
  },
  {
   "cell_type": "code",
   "execution_count": null,
   "metadata": {},
   "outputs": [],
   "source": []
  },
  {
   "cell_type": "markdown",
   "metadata": {},
   "source": [
    "### 2. Fox - Conservative"
   ]
  },
  {
   "cell_type": "markdown",
   "metadata": {},
   "source": [
    "Get links from the Fox Politics homepage"
   ]
  },
  {
   "cell_type": "code",
   "execution_count": 75,
   "metadata": {},
   "outputs": [],
   "source": [
    "# https://www.foxnews.com/category/politics/2020-presidential-election <- 127 links // 15  without junk\n",
    "# https://www.foxnews.com/politics <- 150 links (but junk?) // 31 without junk\n",
    "\n",
    "# load the HTML content using requests and save into a variable\n",
    "r3 = requests.get('https://www.foxnews.com/politics')\n",
    "homepage = r3.content\n",
    "\n",
    "# create a soup to allow BeautifulSoup to work\n",
    "soup3 = BeautifulSoup(homepage, 'html.parser')\n",
    "\n",
    "# locate and retrieve all links - WAS NOT ABLE TO ISOLATE JUST ARTICLE LINKS BECUASE NO UNIQUE TAG ELEMENT!!\n",
    "homepage_tags3 = soup3.find_all('a')\n",
    "homepage_links3 = []\n",
    "\n",
    "for link in homepage_tags3:\n",
    "    homepage_links3.append(link.get('href'))\n",
    "\n",
    "# remove duplicates by turning list into a set\n",
    "homepage_links3 = set(homepage_links3)"
   ]
  },
  {
   "cell_type": "code",
   "execution_count": 76,
   "metadata": {},
   "outputs": [
    {
     "name": "stdout",
     "output_type": "stream",
     "text": [
      "31\n"
     ]
    }
   ],
   "source": [
    "# remove junk links from list\n",
    "# creating a list of exact junk links that will never be needed when pulling from the homepage\n",
    "junk_links3 = ['/', '/us', '/world', '/opinion', '/politics', '/entertainment', '//www.foxbusiness.com', \n",
    "                  '/lifestyle', '/shows', '//www.foxnews.com/shows/fox-nation', '//radio.foxnews.com/podcast',\n",
    "                  '#', '//foxnews.com/weather/your-weather/index.html', '#', '#', \n",
    "                  '//video.foxnews.com/v/5614615980001/?#sp=watch-live', '#', '/us', '/world', '/opinion', '/politics', \n",
    "                  '/official-polls', '/category/politics/elections', \n",
    "                  '/entertainment', '//video.foxnews.com/playlist/entertainment-latest-entertainment/', \n",
    "                  '//www.foxbusiness.com/', '//www.foxbusiness.com/markets', '//www.foxbusiness.com/politics', \n",
    "                  '//www.foxbusiness.com/category/technology', '//www.foxbusiness.com/features', \n",
    "                  '//www.foxbusiness.com/category/business-leaders', '/lifestyle', '/food-drink', '/auto', \n",
    "                  '/travel', '/family', '/science', '/tech', '/health', '/shows', '/shows', \n",
    "                  '/person/personalities', '//video.foxnews.com/v/5614615980001/?#sp=watch-live', \n",
    "                  '//video.foxnews.com/playlist/episodic-most-recent-episodes/', \n",
    "                  '//video.foxnews.com/#sp=show-clips', '//video.foxnews.com/#sp=news-clips', \n",
    "                  '//www.foxnews.com/contact', '//foxcareers.com/Search/SearchResults?brand=Fox%20News%20Careers', \n",
    "                  '/foxaroundtheworld/', 'mailto:adsales@foxnews.com?subject=Advertising%20Inquiry', \n",
    "                  '//press.foxnews.com/media-contacts/', '//press.foxnews.com/', '/compliance', \n",
    "                  'https://supplierdiversity.foxnews.com/', '//www.foxnews.com/shows/fox-nation', '//shop.foxnews.com', \n",
    "                  '/go', '//radio.foxnews.com/', '/alerts/subscribe', '/newsletter-signup/alerts', '//radio.foxnews.com/podcast', \n",
    "                  '/apps-products', '//www.foxnews.com', '/terms-of-use', '/privacy-policy', '/donotsell', '/closed-captioning', \n",
    "                  '//help.foxnews.com', '/contact', '//www.facebook.com/FoxNews', '//twitter.com/foxnews', '//www.google.com/+FoxNews', \n",
    "                  '//www.instagram.com/foxnews', '/about/rss/', '/alerts/subscribe', 'https://flipboard.com/@FoxNews', \n",
    "                  '//www.foxnews.com/rss/index.html', '//www.foxnews.com/alerts/subscribe.html', \n",
    "                   '/accessibility-statement', 'https://video.foxnews.com/v/' ]\n",
    "\n",
    "# removing all links that lead to section pages AND other specified junk URLs\n",
    "homepage_links3 = [x for x in homepage_links3 if \"/category\" not in x] \n",
    "homepage_links3 = [x for x in homepage_links3 if x not in junk_links3] "
   ]
  },
  {
   "cell_type": "code",
   "execution_count": 77,
   "metadata": {},
   "outputs": [],
   "source": [
    "# TO DO: check for duplicates to set of existing URLs to make sure we only pull data for new ones\n",
    "# import full dataset in\n",
    "# remove urls in homepage_links3 that are already included in the full dataset"
   ]
  },
  {
   "cell_type": "markdown",
   "metadata": {},
   "source": [
    "Get article text and other relevent data from new articles"
   ]
  },
  {
   "cell_type": "code",
   "execution_count": null,
   "metadata": {},
   "outputs": [],
   "source": [
    "# grab text from the homepage links using BeautifulSoup"
   ]
  }
 ],
 "metadata": {
  "kernelspec": {
   "display_name": "Python 3",
   "language": "python",
   "name": "python3"
  },
  "language_info": {
   "codemirror_mode": {
    "name": "ipython",
    "version": 3
   },
   "file_extension": ".py",
   "mimetype": "text/x-python",
   "name": "python",
   "nbconvert_exporter": "python",
   "pygments_lexer": "ipython3",
   "version": "3.7.4"
  }
 },
 "nbformat": 4,
 "nbformat_minor": 2
}
