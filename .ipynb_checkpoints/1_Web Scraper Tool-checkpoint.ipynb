{
 "cells": [
  {
   "cell_type": "markdown",
   "metadata": {},
   "source": [
    "# Web Scraper Tool for 5 US Media Outlets"
   ]
  },
  {
   "cell_type": "code",
   "execution_count": 105,
   "metadata": {},
   "outputs": [],
   "source": [
    "import requests\n",
    "from bs4 import BeautifulSoup\n",
    "import numpy as np\n",
    "import pandas as pd"
   ]
  },
  {
   "cell_type": "code",
   "execution_count": 7,
   "metadata": {},
   "outputs": [],
   "source": [
    "# create a pandas dataframe where all of the retrieved data will be stored\n",
    "#article_data = pd.DataFrame()\n",
    "\n",
    "#article_data['headline'] = []\n",
    "#article_data['date_published'] = []\n",
    "#article_data['date_modified'] = []\n",
    "#article_data['description'] = []\n",
    "#article_data['author'] = []\n",
    "#article_data['url'] = []\n",
    "\n",
    "#export empty df to file\n",
    "#article_data2.to_csv('Fox_Data.csv')"
   ]
  },
  {
   "cell_type": "code",
   "execution_count": 113,
   "metadata": {},
   "outputs": [
    {
     "name": "stdout",
     "output_type": "stream",
     "text": [
      "4.8.0\n"
     ]
    }
   ],
   "source": [
    "import bs4\n",
    "print(bs4.__version__)"
   ]
  },
  {
   "cell_type": "markdown",
   "metadata": {},
   "source": [
    "### 1. Breitbart - Very Conservative"
   ]
  },
  {
   "cell_type": "code",
   "execution_count": 34,
   "metadata": {},
   "outputs": [],
   "source": [
    "# load the HTML content using requests and save into a variable\n",
    "breitbart_request = requests.get('https://www.breitbart.com/politics/')\n",
    "breitbart_homepage = breitbart_request.content"
   ]
  },
  {
   "cell_type": "code",
   "execution_count": 35,
   "metadata": {},
   "outputs": [],
   "source": [
    "# create soup \n",
    "breitbart_soup = BeautifulSoup(breitbart_homepage, 'html.parser')"
   ]
  },
  {
   "cell_type": "code",
   "execution_count": 50,
   "metadata": {
    "scrolled": true
   },
   "outputs": [],
   "source": [
    "# locate article URLs\n",
    "breitbart_tags = breitbart_soup.find_all('h2')"
   ]
  },
  {
   "cell_type": "code",
   "execution_count": 47,
   "metadata": {},
   "outputs": [],
   "source": [
    "number_of_articles = 30\n",
    "\n",
    "# get article titles, content, and links\n",
    "breitbart_links = []\n",
    "breitbart_titles = []\n",
    "breitbart_dates = []\n",
    "breitbart_contents = []\n",
    "\n",
    "for n in np.arange(0, number_of_articles):\n",
    "\n",
    "    # get article link\n",
    "    link = breitbart_tags[n].find('a')['href']\n",
    "    link = \"https://www.breitbart.com\" + link\n",
    "    breitbart_links.append(link)\n",
    "    \n",
    "    # get article title\n",
    "    title = breitbart_tags[n].find('a').get_text()\n",
    "    breitbart_titles.append(title)\n",
    "    \n",
    "    # prep article content\n",
    "    article = requests.get(link)\n",
    "    article_content = article.content\n",
    "    soup_article = BeautifulSoup(article_content, 'html5lib')\n",
    "    \n",
    "    # get publication datetime\n",
    "    date = soup_article.time.attrs['datetime']\n",
    "    breitbart_dates.append(date)\n",
    "    \n",
    "    # get article content\n",
    "    body = soup_article.find_all('div', class_='entry-content')\n",
    "    x = body[0].find_all('p')\n",
    "\n",
    "    # combine paragraphs\n",
    "    list_paragraphs = []\n",
    "    for p in np.arange(0, len(x)):\n",
    "        paragraph = x[p].get_text()\n",
    "        list_paragraphs.append(paragraph)\n",
    "        final_article = \" \".join(list_paragraphs)\n",
    "        \n",
    "    breitbart_contents.append(final_article)"
   ]
  },
  {
   "cell_type": "code",
   "execution_count": 39,
   "metadata": {},
   "outputs": [],
   "source": [
    "breitbart_data = pd.DataFrame.from_dict({\n",
    "    'publisher': 'Breitbart',\n",
    "    'date': breitbart_dates,\n",
    "    'link': breitbart_links,\n",
    "    'article_title': breitbart_titles,\n",
    "    'article_text': breitbart_contents \n",
    "})"
   ]
  },
  {
   "cell_type": "code",
   "execution_count": 9,
   "metadata": {},
   "outputs": [
    {
     "data": {
      "text/html": [
       "<div>\n",
       "<style scoped>\n",
       "    .dataframe tbody tr th:only-of-type {\n",
       "        vertical-align: middle;\n",
       "    }\n",
       "\n",
       "    .dataframe tbody tr th {\n",
       "        vertical-align: top;\n",
       "    }\n",
       "\n",
       "    .dataframe thead th {\n",
       "        text-align: right;\n",
       "    }\n",
       "</style>\n",
       "<table border=\"1\" class=\"dataframe\">\n",
       "  <thead>\n",
       "    <tr style=\"text-align: right;\">\n",
       "      <th></th>\n",
       "      <th>article_text</th>\n",
       "      <th>article_title</th>\n",
       "      <th>date</th>\n",
       "      <th>link</th>\n",
       "      <th>publisher</th>\n",
       "    </tr>\n",
       "  </thead>\n",
       "  <tbody>\n",
       "    <tr>\n",
       "      <th>0</th>\n",
       "      <td>On Friday’s broadcast of MSNBC’s “11th Hour,” ...</td>\n",
       "      <td>Sanders Co-Chair Khanna: ‘Need a Strong Showin...</td>\n",
       "      <td>2020-03-07T00:12:05Z</td>\n",
       "      <td>https://www.breitbart.com/clips/2020/03/07/san...</td>\n",
       "      <td>Breitbart</td>\n",
       "    </tr>\n",
       "    <tr>\n",
       "      <th>1</th>\n",
       "      <td>On Friday’s broadcast of HBO’s “Real Time,” ho...</td>\n",
       "      <td>Maher on Matthews Departure: ‘Cancel Culture I...</td>\n",
       "      <td>2020-03-06T21:58:50Z</td>\n",
       "      <td>https://www.breitbart.com/clips/2020/03/06/mah...</td>\n",
       "      <td>Breitbart</td>\n",
       "    </tr>\n",
       "    <tr>\n",
       "      <th>2</th>\n",
       "      <td>MSNBC anchor Chris Hayes criticized President ...</td>\n",
       "      <td>MSNBC’s Hayes: ‘BS Artist’ Trump Coronavirus R...</td>\n",
       "      <td>2020-03-06T20:40:26Z</td>\n",
       "      <td>https://www.breitbart.com/clips/2020/03/06/msn...</td>\n",
       "      <td>Breitbart</td>\n",
       "    </tr>\n",
       "    <tr>\n",
       "      <th>3</th>\n",
       "      <td>President Donald Trump has fortified his White...</td>\n",
       "      <td>‘The Perfect Choice’: Trump Brings Warrior Mar...</td>\n",
       "      <td>2020-03-06T19:59:49Z</td>\n",
       "      <td>https://www.breitbart.com/politics/2020/03/06/...</td>\n",
       "      <td>Breitbart</td>\n",
       "    </tr>\n",
       "    <tr>\n",
       "      <th>4</th>\n",
       "      <td>Ammunition sales are surging amid fears of pan...</td>\n",
       "      <td>Ammo Sales Surge amid Fears of Pandemic-Induce...</td>\n",
       "      <td>2020-03-06T18:54:06Z</td>\n",
       "      <td>https://www.breitbart.com/2nd-amendment/2020/0...</td>\n",
       "      <td>Breitbart</td>\n",
       "    </tr>\n",
       "  </tbody>\n",
       "</table>\n",
       "</div>"
      ],
      "text/plain": [
       "                                        article_text  \\\n",
       "0  On Friday’s broadcast of MSNBC’s “11th Hour,” ...   \n",
       "1  On Friday’s broadcast of HBO’s “Real Time,” ho...   \n",
       "2  MSNBC anchor Chris Hayes criticized President ...   \n",
       "3  President Donald Trump has fortified his White...   \n",
       "4  Ammunition sales are surging amid fears of pan...   \n",
       "\n",
       "                                       article_title                  date  \\\n",
       "0  Sanders Co-Chair Khanna: ‘Need a Strong Showin...  2020-03-07T00:12:05Z   \n",
       "1  Maher on Matthews Departure: ‘Cancel Culture I...  2020-03-06T21:58:50Z   \n",
       "2  MSNBC’s Hayes: ‘BS Artist’ Trump Coronavirus R...  2020-03-06T20:40:26Z   \n",
       "3  ‘The Perfect Choice’: Trump Brings Warrior Mar...  2020-03-06T19:59:49Z   \n",
       "4  Ammo Sales Surge amid Fears of Pandemic-Induce...  2020-03-06T18:54:06Z   \n",
       "\n",
       "                                                link  publisher  \n",
       "0  https://www.breitbart.com/clips/2020/03/07/san...  Breitbart  \n",
       "1  https://www.breitbart.com/clips/2020/03/06/mah...  Breitbart  \n",
       "2  https://www.breitbart.com/clips/2020/03/06/msn...  Breitbart  \n",
       "3  https://www.breitbart.com/politics/2020/03/06/...  Breitbart  \n",
       "4  https://www.breitbart.com/2nd-amendment/2020/0...  Breitbart  "
      ]
     },
     "execution_count": 9,
     "metadata": {},
     "output_type": "execute_result"
    }
   ],
   "source": [
    "breitbart_data.head()"
   ]
  },
  {
   "cell_type": "markdown",
   "metadata": {},
   "source": [
    "### 2. Fox - Conservative"
   ]
  },
  {
   "cell_type": "markdown",
   "metadata": {},
   "source": [
    "Get links from the Fox Politics homepage"
   ]
  },
  {
   "cell_type": "code",
   "execution_count": 4,
   "metadata": {},
   "outputs": [],
   "source": [
    "# load the HTML content using requests and save into a variable\n",
    "fox_request = requests.get('https://www.foxnews.com/politics')\n",
    "fox_homepage = fox_request.content"
   ]
  },
  {
   "cell_type": "code",
   "execution_count": 5,
   "metadata": {},
   "outputs": [],
   "source": [
    "# create soup\n",
    "fox_soup = BeautifulSoup(fox_homepage, 'html.parser')"
   ]
  },
  {
   "cell_type": "code",
   "execution_count": 6,
   "metadata": {},
   "outputs": [],
   "source": [
    "# locate article URLs - CHECK FOR BETTER WAY TO ISOLATE ARTICLE LINKS\n",
    "# fox_soup.prettify())\n",
    "fox_tags = fox_soup.find_all('a')\n",
    "fox_links = []\n",
    "\n",
    "for link in fox_tags:\n",
    "    fox_links.append(link.get('href'))"
   ]
  },
  {
   "cell_type": "code",
   "execution_count": 8,
   "metadata": {},
   "outputs": [],
   "source": [
    "# remove duplicates by turning list into a set\n",
    "fox_links = set(fox_links)"
   ]
  },
  {
   "cell_type": "code",
   "execution_count": 9,
   "metadata": {},
   "outputs": [],
   "source": [
    "# remove junk links from list <- MAYBE THIS COULD BE DONE IN A BETTER WAY??\n",
    "\n",
    "# creating a list of exact junk links that will never be needed when pulling from the homepage\n",
    "junk_links = ['/', '/us', '/world', '/opinion', '/politics', '/entertainment', '//www.foxbusiness.com', \n",
    "                  '/lifestyle', '/shows', '//www.foxnews.com/shows/fox-nation', '//radio.foxnews.com/podcast',\n",
    "                  '#', '//foxnews.com/weather/your-weather/index.html', '#', '#', \n",
    "                  '//video.foxnews.com/v/5614615980001/?#sp=watch-live', '#', '/us', '/world', '/opinion', '/politics', \n",
    "                  '/official-polls', '/category/politics/elections', \n",
    "                  '/entertainment', '//video.foxnews.com/playlist/entertainment-latest-entertainment/', \n",
    "                  '//www.foxbusiness.com/', '//www.foxbusiness.com/markets', '//www.foxbusiness.com/politics', \n",
    "                  '//www.foxbusiness.com/category/technology', '//www.foxbusiness.com/features', \n",
    "                  '//www.foxbusiness.com/category/business-leaders', '/lifestyle', '/food-drink', '/auto', \n",
    "                  '/travel', '/family', '/science', '/tech', '/health', '/shows', '/shows', \n",
    "                  '/person/personalities', '//video.foxnews.com/v/5614615980001/?#sp=watch-live', \n",
    "                  '//video.foxnews.com/playlist/episodic-most-recent-episodes/', \n",
    "                  '//video.foxnews.com/#sp=show-clips', '//video.foxnews.com/#sp=news-clips', \n",
    "                  '//www.foxnews.com/contact', '//foxcareers.com/Search/SearchResults?brand=Fox%20News%20Careers', \n",
    "                  '/foxaroundtheworld/', 'mailto:adsales@foxnews.com?subject=Advertising%20Inquiry', \n",
    "                  '//press.foxnews.com/media-contacts/', '//press.foxnews.com/', '/compliance', \n",
    "                  'https://supplierdiversity.foxnews.com/', '//www.foxnews.com/shows/fox-nation', '//shop.foxnews.com', \n",
    "                  '/go', '//radio.foxnews.com/', '/alerts/subscribe', '/newsletter-signup/alerts', '//radio.foxnews.com/podcast', \n",
    "                  '/apps-products', '//www.foxnews.com', '/terms-of-use', '/privacy-policy', '/donotsell', '/closed-captioning', \n",
    "                  '//help.foxnews.com', '/contact', '//www.facebook.com/FoxNews', '//twitter.com/foxnews', '//www.google.com/+FoxNews', \n",
    "                  '//www.instagram.com/foxnews', '/about/rss/', '/alerts/subscribe', 'https://flipboard.com/@FoxNews', \n",
    "                  '//www.foxnews.com/rss/index.html', '//www.foxnews.com/alerts/subscribe.html', \n",
    "                   '/accessibility-statement', 'https://video.foxnews.com/v/', 'https://foxnews.com/elections']"
   ]
  },
  {
   "cell_type": "code",
   "execution_count": 10,
   "metadata": {},
   "outputs": [],
   "source": [
    "# removing all links that lead to section pages AND other specified junk URLs\n",
    "fox_links = [x for x in fox_links if \"/category\" not in x] \n",
    "fox_links = [x for x in fox_links if \"/v/\" not in x] \n",
    "fox_links = [x for x in fox_links if x not in fox_links]"
   ]
  },
  {
   "cell_type": "code",
   "execution_count": 11,
   "metadata": {},
   "outputs": [],
   "source": [
    "# add https://www.foxnews.com to links that don't have this\n",
    "# create new list for prepared links\n",
    "hp_fox_links = []\n",
    "\n",
    "for item in fox_links:\n",
    "    new_item = 'https://www.foxnews.com' + item\n",
    "    hp_fox_links.append(new_item)"
   ]
  },
  {
   "cell_type": "code",
   "execution_count": 12,
   "metadata": {},
   "outputs": [],
   "source": [
    "# TO DO: check for duplicates to set of existing URLs to make sure we only pull data for new ones\n",
    "    # import full dataset in\n",
    "    # remove urls in homepage_links3 that are already included in the full dataset"
   ]
  },
  {
   "cell_type": "markdown",
   "metadata": {},
   "source": [
    "Get article text and other relevent data from new articles"
   ]
  },
  {
   "cell_type": "code",
   "execution_count": 18,
   "metadata": {},
   "outputs": [],
   "source": [
    "text = []\n",
    "headline = []\n",
    "date_published = []\n",
    "date_modified = []\n",
    "description = []\n",
    "author = []\n",
    "url = []\n",
    "\n",
    "for link in hp_fox_links:\n",
    "    # load the HTML content using requests and save into a variable\n",
    "    fox_article_request = requests.get(link)\n",
    "    fox_article = fox_article_request.content\n",
    "\n",
    "    # create a soups to allow BeautifulSoup to work\n",
    "    fox_article_soup = BeautifulSoup(fox_article, 'html.parser')\n",
    "\n",
    "    # get article text\n",
    "    fox_article_text = fox_article_soup.find(\"body\").get_text()\n",
    "    text.append(text)\n",
    "    \n",
    "    # retrieve article specific metadata\n",
    "    fox_metadata = fox_article_soup.find_all(\"script\")[2].get_text()\n",
    "    fox_metadata = fox_metadata.split(\",\")\n",
    "\n",
    "    for item in fox_metadata:\n",
    "        if 'headline' in item:\n",
    "            headline.append(item)\n",
    "        elif 'datePublished' in item:\n",
    "            date_published.append(item)\n",
    "        elif 'dateModified' in item:\n",
    "            date_modified.append(item)\n",
    "        elif 'description' in item:\n",
    "            description.append(item)\n",
    "        elif 'name' in item and 'Fox News' not in item:\n",
    "            author.append(item)\n",
    "        elif 'mainEntityOfPage' in item:\n",
    "            url.append(item)"
   ]
  },
  {
   "cell_type": "code",
   "execution_count": 19,
   "metadata": {},
   "outputs": [
    {
     "name": "stdout",
     "output_type": "stream",
     "text": [
      "text 22\n",
      "headline 22\n",
      "date_published 22\n",
      "date_modified 22\n",
      "description 22\n",
      "author 21\n",
      "url 22\n"
     ]
    }
   ],
   "source": [
    "print('text', len(text))\n",
    "print('headline', len(headline))\n",
    "print('date_published', len(date_published))\n",
    "print('date_modified', len(date_modified))\n",
    "print('description', len(description))\n",
    "print('author', len(author))\n",
    "print('url', len(url))"
   ]
  },
  {
   "cell_type": "code",
   "execution_count": 13,
   "metadata": {},
   "outputs": [],
   "source": [
    "#article_data2 = pd.DataFrame({'text':text,'title':headline, 'date_published':date_published, 'date_modified':date_modified, 'description':description, 'author':author, 'url':url})"
   ]
  },
  {
   "cell_type": "code",
   "execution_count": null,
   "metadata": {},
   "outputs": [],
   "source": [
    "# import collection of all responses\n",
    "all_articles2 = pd.read_csv(\"Fox_Data.csv\", index_col=[0])\n",
    "\n",
    "# merge new increment of data to the csv\n",
    "all_articles2 = article_data2.append(article_data2, ignore_index=True)\n",
    "\n",
    "#export with new increment to save\n",
    "all_articles.to_csv('Fox_Data.csv')"
   ]
  },
  {
   "cell_type": "code",
   "execution_count": 144,
   "metadata": {},
   "outputs": [
    {
     "name": "stdout",
     "output_type": "stream",
     "text": [
      "<meta content=\"Dana Blanton\" data-hid=\"dc.creator\" data-n-head=\"true\" name=\"dc.creator\" scheme=\"dcterms.creator\"/>\n"
     ]
    }
   ],
   "source": [
    "# another spot the author is located just in case\n",
    "# test = article_soup3.find_all(\"meta\")[17]\n",
    "#print(yay)"
   ]
  },
  {
   "cell_type": "markdown",
   "metadata": {},
   "source": [
    "### 3. Wall Street Journal - neutral"
   ]
  },
  {
   "cell_type": "code",
   "execution_count": 69,
   "metadata": {},
   "outputs": [],
   "source": [
    "# load the HTML content using requests and save into a variable\n",
    "wsj_request = requests.get('https://www.wsj.com/news/politics')\n",
    "wsj_homepage = wsj_request.content"
   ]
  },
  {
   "cell_type": "code",
   "execution_count": 70,
   "metadata": {},
   "outputs": [],
   "source": [
    "# create soup \n",
    "wsj_soup = BeautifulSoup(wsj_homepage, 'html.parser')"
   ]
  },
  {
   "cell_type": "code",
   "execution_count": 92,
   "metadata": {},
   "outputs": [
    {
     "name": "stdout",
     "output_type": "stream",
     "text": [
      "[]\n"
     ]
    }
   ],
   "source": [
    "# locate article URLs\n",
    "wsj_links = wsj_soup.find_all('a', 'wsj-headline-link')\n",
    "print(wsj_links)"
   ]
  },
  {
   "cell_type": "code",
   "execution_count": 33,
   "metadata": {},
   "outputs": [
    {
     "name": "stdout",
     "output_type": "stream",
     "text": [
      "['#main', 'https://www.barrons.com', 'http://bigcharts.marketwatch.com', 'https://www.wsj.com/public/page/wsj-x-marketing.html', 'https://www.dowjones.com/', 'https://global.factiva.com/factivalogin/login.asp?productname=global', 'https://www.fnlondon.com/', 'https://www.mansionglobal.com/', 'https://www.marketwatch.com', 'https://newsplus.wsj.com', 'https://privatemarkets.dowjones.com', 'https://djlogin.dowjones.com/login.asp?productname=rnc', 'https://www.wsj.com/conferences', 'https://www.wsj.com/pro/centralbanking', 'https://www.wsj.com/video/', 'https://www.wsj.com', 'http://www.bigdecisions.com/', 'https://www.theaustralian.com.au/business', 'https://www.checkout51.com/?utm_source=wsj&utm_medium=digitalhousead&utm_campaign=wsjspotlight', 'https://www.harpercollins.com/', 'https://housing.com/', 'https://knewz.com/', 'https://www.makaan.com/', 'https://nypost.com/', 'https://www.newsamerica.com/', 'https://www.proptiger.com', 'https://www.rea-group.com/', 'https://www.realtor.com', 'https://storyful.com/', 'https://www.theaustralian.com.au', 'https://www.thesun.co.uk/', 'https://www.thetimes.co.uk', 'https://www.wsj.com/', '#', '#', '#', 'https://www.wsj.com/itp', 'https://www.wsj.com/video?mod=wsjheader', 'https://www.wsj.com/', 'https://www.wsj.com/news/world', 'https://www.wsj.com/news/types/africa-news', 'https://www.wsj.com/news/types/asia-news', 'https://www.wsj.com/news/types/canada-news', 'https://www.wsj.com/news/types/china-news', 'https://www.wsj.com/news/types/europe-news', 'https://www.wsj.com/news/types/latin-america-news', 'https://www.wsj.com/news/types/middle-east-news', 'https://www.wsj.com/news/economy', 'https://www.wsj.com/video/browse/news/world-news', 'https://www.wsj.com/news/us', 'https://www.wsj.com/news/economy', 'https://www.wsj.com/news/business/law-legal', 'https://www.wsj.com/news/us/greater-new-york', 'https://www.wsj.com/news/politics', 'https://blogs.wsj.com/economics/', 'https://blogs.wsj.com/washwire/', 'https://www.wsj.com/news/latest/journalreport', 'https://www.wsj.com/video/browse/news/us-news', 'https://www.wsj.com/podcasts/latest/wsj-whats-news', 'https://www.wsj.com/news/politics', 'https://www.wsj.com/news/types/election-2020', 'https://www.wsj.com/livecoverage/campaign-wire-election-2020  ', 'https://graphics.wsj.com/wsjnbcpoll/', 'https://www.wsj.com/video/browse/news/politics-and-campaign', 'https://www.wsj.com/news/economy', 'https://blogs.wsj.com/economics/', 'https://www.wsj.com/pro/bankruptcy', 'https://www.wsj.com/pro/centralbanking', 'https://www.wsj.com/pro/privateequity', 'https://www.wsj.com/pro/strategic-intelligence', 'https://www.wsj.com/pro/venturecapital', 'https://projects.wsj.com/econforecast/', 'https://www.wsj.com/video/browse/business/economy', 'https://www.wsj.com/news/business', 'https://www.wsj.com/news/business/management', 'https://www.wsj.com/news/technology', 'https://www.wsj.com/news/tech/future-of-everything', 'https://www.wsj.com/news/business/defense-aerospace', 'https://www.wsj.com/news/business/transportation', 'https://www.wsj.com/news/markets/real-estate-commercial', 'https://www.wsj.com/news/business/consumer-products', 'https://www.wsj.com/news/business/energy-oil-gas', 'https://www.wsj.com/news/business/small-business-marketing', 'https://www.wsj.com/news/business/financial-services', 'https://www.wsj.com/news/business/food-tobacco', 'https://www.wsj.com/news/business/health-industry', 'https://www.wsj.com/news/business/hotels-casinos', 'https://www.wsj.com/news/business/law-legal', 'https://www.wsj.com/news/business/industrial-services', 'https://www.wsj.com/news/business/media-marketing', 'https://www.wsj.com/news/business/natural-resources', 'https://www.wsj.com/news/business/retail-industry', 'https://www.wsj.com/news/cfo-journal', 'https://www.wsj.com/news/cio-journal', 'https://www.wsj.com/news/cmo-today', 'https://www.wsj.com/news/logistics-report', 'https://www.wsj.com/news/risk-compliance-journal', 'https://www.wsj.com/news/experience-report', 'https://www.wsj.com/news/heard-on-the-street', 'https://www.wsj.com/pro/artificial-intelligence', 'https://www.wsj.com/pro/bankruptcy', 'https://www.wsj.com/pro/centralbanking', 'https://www.wsj.com/pro/cybersecurity', 'https://www.wsj.com/pro/privateequity', 'https://www.wsj.com/pro/strategic-intelligence', 'https://www.wsj.com/pro/venturecapital', 'https://www.wsj.com/video/browse/business', 'https://www.wsj.com/news/latest/journalreport', 'https://www.wsj.com/podcasts/latest/wsj-whats-news', 'https://www.wsj.com/news/technology', 'https://www.wsj.com/news/cio-journal', 'https://www.wsj.com/news/tech/future-of-everything', 'https://www.wsj.com/news/author/christopher-mims', 'https://www.wsj.com/news/author/joanna-stern', 'https://www.wsj.com/news/author/julie-jargon', 'https://www.wsj.com/graphics/billion-dollar-club/', 'https://www.wsj.com/video/browse/tech', 'https://www.wsj.com/podcasts/latest/wsj-tech-news-briefing', 'https://www.wsj.com/graphics/tech-startup-stocks-to-watch/', 'https://www.wsj.com/news/markets', 'https://www.wsj.com/news/markets/bonds', 'https://www.wsj.com/news/markets/real-estate-commercial', 'https://www.wsj.com/news/markets/oil-gold-commodities-futures', 'https://www.wsj.com/news/markets/stocks', 'https://www.wsj.com/news/types/your-money', 'https://www.wsj.com/news/heard-on-the-street', 'https://blogs.wsj.com/moneybeat/', 'https://www.wsj.com/news/markets/wealth-adviser', 'https://www.wsj.com/market-data', 'https://www.wsj.com/market-data/stocks', 'https://www.wsj.com/market-data/currencies', 'https://www.wsj.com/market-data/commodities', 'https://www.wsj.com/market-data/bonds', 'https://www.wsj.com/market-data/mutualfunds-etfs', 'https://www.wsj.com/news/cfo-journal', 'https://www.wsj.com/news/latest/journalreport', 'https://www.wsj.com/video/browse/business/markets', 'https://www.wsj.com/podcasts/latest/wsj-your-money-matters', 'https://www.wsj.com/podcasts/latest/wsj-secrets-of-wealthy-women', 'https://www.wsj.com/news/opinion', 'https://www.wsj.com/news/author/sadanand-dhume', 'https://www.wsj.com/news/author/james-freeman', 'https://www.wsj.com/news/author/william-a-galston', 'https://www.wsj.com/news/author/daniel-henninger', 'https://www.wsj.com/news/author/holman-w-jenkinsjr', 'https://www.wsj.com/news/author/andy-kessler', 'https://www.wsj.com/news/author/william-mcgurn', 'https://www.wsj.com/news/author/walter-russell-mead', 'https://www.wsj.com/news/author/peggy-noonan', 'https://www.wsj.com/news/author/mary-anastasia-ogrady', 'https://www.wsj.com/news/author/jason-l-riley', 'https://www.wsj.com/news/author/joseph-c.-sternberg', 'https://www.wsj.com/news/author/kimberley-a.-strassel', 'https://www.wsj.com/news/types/bookshelf', 'https://www.wsj.com/news/types/film-review', 'https://www.wsj.com/news/types/television-review', 'https://www.wsj.com/news/types/theater-review', 'https://www.wsj.com/news/types/art-review', 'https://www.wsj.com/news/types/masterpiece', 'https://www.wsj.com/news/types/music-review', 'https://www.wsj.com/news/types/dance-review', 'https://www.wsj.com/news/types/opera-review', 'https://www.wsj.com/news/types/exhibition-review', 'https://www.wsj.com/news/types/cultural-commentary', 'https://www.wsj.com/news/types/review-outlook-u-s', 'https://www.wsj.com/news/types/commentary-u-s', 'https://www.wsj.com/news/types/letters', 'https://www.wsj.com/news/types/the-saturday-interview', 'https://www.wsj.com/podcasts/latest/wsj-opinion-potomac-watch', 'https://www.wsj.com/podcasts/latest/wsj-opinion-foreign-edition', 'https://www.wsj.com/video/browse/opinion', 'https://www.wsj.com/news/types/notable-quotable', 'https://www.wsj.com/newsletters#opinion', 'https://www.wsj.com/newsletters#opinion', 'https://www.wsj.com/news/life-arts', 'https://www.wsj.com/news/life-arts/arts', 'https://www.wsj.com/news/life-arts/books', 'https://www.wsj.com/news/life-arts/automotive', 'https://www.wsj.com/news/life-arts/food-cooking-drink', 'https://www.wsj.com/news/life-arts/health-wellness', 'https://www.wsj.com/news/life-arts/ideas', 'https://www.wsj.com/news/realestate', 'https://www.wsj.com/news/science', 'https://www.wsj.com/news/life-arts/sports', 'https://www.wsj.com/news/life-arts/fashion', 'https://www.wsj.com/news/life-arts/travel', 'https://www.wsj.com/news/magazine', 'https://blogs.wsj.com/puzzle/', 'https://www.wsj.com/news/tech/future-of-everything', 'https://www.wsj.com/news/collection/far-and-away-09e79c31', 'https://www.wsj.com/video/browse/life-culture', 'https://www.wsj.com/video/browse/life-culture/arts-and-entertainment', 'https://www.wsj.com/news/realestate', 'https://www.wsj.com/news/markets/real-estate-commercial', 'https://www.wsj.com/houseoftheday', 'https://www.wsj.com/video/subject/mansion', 'https://www.wsj.com/news/magazine', 'https://www.wsj.com/news/magazine/fashion', 'https://www.wsj.com/news/magazine/art-design', 'https://www.wsj.com/news/magazine/travel', 'https://www.wsj.com/news/magazine/food', 'https://www.wsj.com/news/magazine/culture', 'mailto:support@wsj.com', None, 'https://www.wsj.com/articles/top-saudi-royal-family-members-detained-11583531033?mod=error_page', 'https://www.wsj.com/articles/top-saudi-royal-family-members-detained-11583531033?mod=error_page', 'https://www.wsj.com/articles/how-it-all-started-chinas-early-coronavirus-missteps-11583508932?mod=error_page', 'https://www.wsj.com/articles/how-it-all-started-chinas-early-coronavirus-missteps-11583508932?mod=error_page', 'https://www.wsj.com/articles/how-to-prepare-for-the-coronavirus-11582834561?mod=error_page', 'https://www.wsj.com/articles/how-to-prepare-for-the-coronavirus-11582834561?mod=error_page', 'https://www.wsj.com/video/browse/editor-picks', 'https://www.wsj.com/video/helicopter-drops-coronavirus-test-kits-on-to-grand-princess/586E68FE-693D-42D4-A41C-15064986DCDE.html?mod=error_page', 'https://www.wsj.com/video/why-fed-surprise-rate-cut-is-no-miracle-cure/9FAD156D-2FAC-4970-B612-6563AF5FB8DE.html?mod=error_page', 'https://www.wsj.com/video/coronavirus-fears-and-democratic-primaries-send-markets-reeling/3A3AA5C9-B63E-4176-8243-2CEE72E3F362.html?mod=error_page', 'https://www.wsj.com/podcasts', 'https://www.wsj.com/podcasts/coronavirus-sparks-more-turbulence-on-wall-street/AF91CA5B-EA88-4455-A6F4-83DE30F511F8.html?mod=error_page', 'https://www.wsj.com/podcasts/coronavirus-sparks-more-turbulence-on-wall-street/AF91CA5B-EA88-4455-A6F4-83DE30F511F8.html?mod=error_page', 'https://www.wsj.com/podcasts/why-so-few-ceos-are-women/5E902138-A214-4FB4-A133-17EB0C635444.html?mod=error_page', 'https://www.wsj.com/podcasts/why-so-few-ceos-are-women/5E902138-A214-4FB4-A133-17EB0C635444.html?mod=error_page', 'https://www.wsj.com/podcasts/stocks-fall-capping-a-topsy-turvy-week/3479887C-D348-44F8-ACC5-13DA41273668.html?mod=error_page', 'https://www.wsj.com/podcasts/stocks-fall-capping-a-topsy-turvy-week/3479887C-D348-44F8-ACC5-13DA41273668.html?mod=error_page', 'https://www.wsj.com/404', '#', '#', '#', 'https://subscribe.wsj.com/hpfooterlink', 'https://accounts.wsj.com/login?target=', None, 'https://www.wsjplus.com/?mod=wsjfooter', 'https://subscribe.wsj.com/membership', 'https://www.subscription.wsj.com/?mod=wsjfooter', 'https://www.subscription.wsj.com/corporate/?mod=wsjfooter', 'https://education.wsj.com/?mod=wsjfooter', 'https://education.wsj.com/students/?mod=wsjfooter', 'https://highschool.wsj.com/?mod=wsjfooter', 'https://buy.wsj.com/amenitysales/?mod=wsjfooter', 'https://customercenter.wsj.com/home', 'https://customercenter.wsj.com/contact', 'https://www.wsj.com/newsletters/?mod=wsjfooter', 'https://www.wsj.com/news/how-to-guides?mod=wsjfooter', 'https://www.wsj.com/watchlist/news?mod=wsjfooter', 'https://www.wsj.com/news/rss-news-and-feeds?mod=wsjfooter', 'https://www.wsj.com/video?mod=wsjfooter', 'https://www.wsj.com/watchlist/?mod=wsjfooter', 'https://www.wsj.com/podcasts?mod=wsjfooter', 'https://www.wsjmediakit.com', 'https://classifieds.wsj.com/advertise/real-estate-commercial/', 'https://classifieds.wsj.com', 'https://classifieds.wsj.com/ad/Business-For-Sale-Ads', 'https://classifieds.wsj.com/advertise/real-estate-residential/', 'https://classifieds.wsj.com/advertise/careers/', 'https://www.wsj.com/coupons', 'https://www.wsj.com/articles/about-the-newsroom-1539110913?mod=wsjfooter', 'https://wsj.com/partner', 'https://www.wsj.com/news/column/corrections?mod=wsjfooter', 'https://wsj.jobs', 'https://www.wsj.com/masthead?mod=wsjfooter', 'https://www.wsj.com/news/archive/?mod=wsjfooter', 'https://customercenter.wsj.com/register', 'https://www.djreprints.com', 'https://wsjshop.com/?mod=wsjfooter', 'https://www.facebook.com/wsj', 'https://twitter.com/WSJ', 'https://www.instagram.com/wsj/', 'https://www.youtube.com/user/WSJDigitalNetwork', 'https://www.wsj.com/podcasts', 'https://www.snapchat.com/discover/Wall-Street-Journal/4806310285', 'https://play.google.com/store/apps/details?id=wsj.reader_sp', 'https://itunes.apple.com/us/app/the-wall-street-journal./id364387007?mt=8', 'https://www.barrons.com', 'http://bigcharts.marketwatch.com', 'https://www.dowjones.com/dna', 'https://www.dowjones.com/newswires', 'https://www.dowjones.com/factiva', 'https://www.fnlondon.com/', 'https://mansionglobal.com/', 'https://www.marketwatch.com', 'https://pevc.dowjones.com', 'https://www.realtor.com', 'https://www.dowjones.com/risk-compliance', 'https://www.dowjones.com/venturesource', 'https://www.wsj.com/conferences', 'https://www.wsj.com/pro/centralbanking', 'https://www.wsj.com/video?mod=wsjfooter', 'https://www.wsjwine.com', 'https://www.wsj.com/policy/privacy-policy', 'https://www.wsj.com/policy/cookie-policy', 'https://www.wsj.com/policy/copyright-policy', 'https://www.wsj.com/policy/data-policy', 'https://www.wsj.com/policy/subscriber-agreement', 'https://www.wsj.com/policy/cookie-policy#cookies-advertising', 'https://www.dowjones.com']\n"
     ]
    }
   ],
   "source": [
    "wsj_links = []\n",
    "\n",
    "for link in wsj_tags:\n",
    "    wsj_links.append(link.get('href'))\n",
    "\n",
    "print(wsj_links)"
   ]
  },
  {
   "cell_type": "code",
   "execution_count": null,
   "metadata": {},
   "outputs": [],
   "source": [
    "number_of_articles = 30\n",
    "\n",
    "# get article titles, content, and links\n",
    "wsj_links = []\n",
    "wsj_titles = []\n",
    "wsj_dates = []\n",
    "wsj_contents = []\n",
    "\n",
    "for n in np.arange(0, number_of_articles):\n",
    "\n",
    "    # get article link\n",
    "    link = wsj_tags[n].find('a')['href']\n",
    "    link = \"https://www.wsj.com\" + link\n",
    "    wsj_links.append(link)\n",
    "    \n",
    "    # get article title\n",
    "    title = wsj_tags[n].find('a').get_text()\n",
    "    wsj_titles.append(title)\n",
    "    \n",
    "    # prep article content\n",
    "    article = requests.get(link)\n",
    "    article_content = article.content\n",
    "    soup_article = BeautifulSoup(article_content, 'html5lib')\n",
    "    \n",
    "    # get publication datetime\n",
    "    date = soup_article.time.attrs['datetime']\n",
    "    wsj_dates.append(date)\n",
    "    \n",
    "    # get article content\n",
    "    body = soup_article.find_all('div', class_='entry-content')\n",
    "    x = body[0].find_all('p')\n",
    "    \n",
    "    # combine paragraphs\n",
    "    list_paragraphs = []\n",
    "    for p in np.arange(0, len(x)):\n",
    "        paragraph = x[p].get_text()\n",
    "        list_paragraphs.append(paragraph)\n",
    "        final_article = \" \".join(list_paragraphs)\n",
    "        \n",
    "    wsj_contents.append(final_article)"
   ]
  },
  {
   "cell_type": "code",
   "execution_count": null,
   "metadata": {},
   "outputs": [],
   "source": [
    "breitbart_data = pd.DataFrame.from_dict({\n",
    "    'publisher': 'Breitbart',\n",
    "    'date': breitbart_dates,\n",
    "    'link': breitbart_links,\n",
    "    'article_title': breitbart_titles,\n",
    "    'article_text': breitbart_contents \n",
    "})"
   ]
  }
 ],
 "metadata": {
  "kernelspec": {
   "display_name": "Python 3",
   "language": "python",
   "name": "python3"
  },
  "language_info": {
   "codemirror_mode": {
    "name": "ipython",
    "version": 3
   },
   "file_extension": ".py",
   "mimetype": "text/x-python",
   "name": "python",
   "nbconvert_exporter": "python",
   "pygments_lexer": "ipython3",
   "version": "3.7.4"
  }
 },
 "nbformat": 4,
 "nbformat_minor": 2
}
