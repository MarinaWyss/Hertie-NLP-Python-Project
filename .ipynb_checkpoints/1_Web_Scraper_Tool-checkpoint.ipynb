{
 "cells": [
  {
   "cell_type": "markdown",
   "metadata": {},
   "source": [
    "# Web Scraper Tool for 5 US Media Outlets"
   ]
  },
  {
   "cell_type": "code",
   "execution_count": 4,
   "metadata": {},
   "outputs": [],
   "source": [
    "import requests\n",
    "from bs4 import BeautifulSoup\n",
    "import numpy as np\n",
    "import pandas as pd"
   ]
  },
  {
   "cell_type": "markdown",
   "metadata": {},
   "source": [
    "### 1. Breitbart - Very Conservative"
   ]
  },
  {
   "cell_type": "code",
   "execution_count": 3,
   "metadata": {},
   "outputs": [],
   "source": [
    "# load the HTML content using requests and save into a variable\n",
    "breitbart_request = requests.get('https://www.breitbart.com/politics/')\n",
    "breitbart_homepage = breitbart_request.content"
   ]
  },
  {
   "cell_type": "code",
   "execution_count": 4,
   "metadata": {},
   "outputs": [],
   "source": [
    "# create soup \n",
    "breitbart_soup = BeautifulSoup(breitbart_homepage, 'html.parser')"
   ]
  },
  {
   "cell_type": "code",
   "execution_count": 5,
   "metadata": {
    "scrolled": true
   },
   "outputs": [],
   "source": [
    "# locate article URLs\n",
    "breitbart_tags = breitbart_soup.find_all('h2')"
   ]
  },
  {
   "cell_type": "code",
   "execution_count": 6,
   "metadata": {},
   "outputs": [],
   "source": [
    "number_of_articles = 30\n",
    "\n",
    "# get article titles, content, and links\n",
    "breitbart_links = []\n",
    "breitbart_titles = []\n",
    "breitbart_dates = []\n",
    "breitbart_contents = []\n",
    "\n",
    "for n in np.arange(0, number_of_articles):\n",
    "\n",
    "    # get article link\n",
    "    link = breitbart_tags[n].find('a')['href']\n",
    "    link = \"https://www.breitbart.com\" + link\n",
    "    breitbart_links.append(link)\n",
    "    \n",
    "    # get article title\n",
    "    title = breitbart_tags[n].find('a').get_text()\n",
    "    breitbart_titles.append(title)\n",
    "    \n",
    "    # prep article content\n",
    "    article = requests.get(link)\n",
    "    article_content = article.content\n",
    "    soup_article = BeautifulSoup(article_content, 'html5lib')\n",
    "    \n",
    "    # get publication datetime\n",
    "    date = soup_article.time.attrs['datetime']\n",
    "    date = date[:-10]\n",
    "    breitbart_dates.append(date)\n",
    "    \n",
    "    # get article content\n",
    "    body = soup_article.find_all('div', class_='entry-content')\n",
    "    x = body[0].find_all('p')\n",
    "    \n",
    "    # combine paragraphs\n",
    "    list_paragraphs = []\n",
    "    for p in np.arange(0, len(x)):\n",
    "        paragraph = x[p].get_text()\n",
    "        list_paragraphs.append(paragraph)\n",
    "        final_article = \" \".join(list_paragraphs)\n",
    "        \n",
    "    breitbart_contents.append(final_article)"
   ]
  },
  {
   "cell_type": "code",
   "execution_count": 7,
   "metadata": {},
   "outputs": [],
   "source": [
    "# assembling data\n",
    "breitbart_data = pd.DataFrame.from_dict({\n",
    "    'publisher': 'Breitbart',\n",
    "    'date': breitbart_dates,\n",
    "    'link': breitbart_links,\n",
    "    'article_title': breitbart_titles,\n",
    "    'article_text': breitbart_contents \n",
    "})"
   ]
  },
  {
   "cell_type": "code",
   "execution_count": 35,
   "metadata": {
    "scrolled": true
   },
   "outputs": [
    {
     "data": {
      "text/html": [
       "<div>\n",
       "<style scoped>\n",
       "    .dataframe tbody tr th:only-of-type {\n",
       "        vertical-align: middle;\n",
       "    }\n",
       "\n",
       "    .dataframe tbody tr th {\n",
       "        vertical-align: top;\n",
       "    }\n",
       "\n",
       "    .dataframe thead th {\n",
       "        text-align: right;\n",
       "    }\n",
       "</style>\n",
       "<table border=\"1\" class=\"dataframe\">\n",
       "  <thead>\n",
       "    <tr style=\"text-align: right;\">\n",
       "      <th></th>\n",
       "      <th>article_text</th>\n",
       "      <th>article_title</th>\n",
       "      <th>date</th>\n",
       "      <th>link</th>\n",
       "      <th>publisher</th>\n",
       "    </tr>\n",
       "  </thead>\n",
       "  <tbody>\n",
       "    <tr>\n",
       "      <th>0</th>\n",
       "      <td>A group of Conservative party grandees will se...</td>\n",
       "      <td>Tories Rebel over Huawei: As ‘Ridiculous’ as G...</td>\n",
       "      <td>2020-03-07</td>\n",
       "      <td>https://www.breitbart.com/europe/2020/03/07/to...</td>\n",
       "      <td>Breitbart</td>\n",
       "    </tr>\n",
       "    <tr>\n",
       "      <th>1</th>\n",
       "      <td>Greece has accused the Turkish government of s...</td>\n",
       "      <td>Greece Denounces ‘Fake News’ as Turkey Claims ...</td>\n",
       "      <td>2020-03-07</td>\n",
       "      <td>https://www.breitbart.com/europe/2020/03/07/gr...</td>\n",
       "      <td>Breitbart</td>\n",
       "    </tr>\n",
       "    <tr>\n",
       "      <th>2</th>\n",
       "      <td>Dramatic pictures and video are emerging of fi...</td>\n",
       "      <td>PICTURES: Greek Border in Flames as Migrants K...</td>\n",
       "      <td>2020-03-07</td>\n",
       "      <td>https://www.breitbart.com/europe/2020/03/07/pi...</td>\n",
       "      <td>Breitbart</td>\n",
       "    </tr>\n",
       "    <tr>\n",
       "      <th>3</th>\n",
       "      <td>Finland’s millennial feminist-led government f...</td>\n",
       "      <td>Finland’s Millennial Feminist Govt to Help Gre...</td>\n",
       "      <td>2020-03-07</td>\n",
       "      <td>https://www.breitbart.com/europe/2020/03/07/fi...</td>\n",
       "      <td>Breitbart</td>\n",
       "    </tr>\n",
       "    <tr>\n",
       "      <th>4</th>\n",
       "      <td>A total of 76 per cent of the Greek public sup...</td>\n",
       "      <td>Nearly 8 in 10 Greeks Support Government’s Bor...</td>\n",
       "      <td>2020-03-07</td>\n",
       "      <td>https://www.breitbart.com/europe/2020/03/07/ne...</td>\n",
       "      <td>Breitbart</td>\n",
       "    </tr>\n",
       "  </tbody>\n",
       "</table>\n",
       "</div>"
      ],
      "text/plain": [
       "                                        article_text  \\\n",
       "0  A group of Conservative party grandees will se...   \n",
       "1  Greece has accused the Turkish government of s...   \n",
       "2  Dramatic pictures and video are emerging of fi...   \n",
       "3  Finland’s millennial feminist-led government f...   \n",
       "4  A total of 76 per cent of the Greek public sup...   \n",
       "\n",
       "                                       article_title        date  \\\n",
       "0  Tories Rebel over Huawei: As ‘Ridiculous’ as G...  2020-03-07   \n",
       "1  Greece Denounces ‘Fake News’ as Turkey Claims ...  2020-03-07   \n",
       "2  PICTURES: Greek Border in Flames as Migrants K...  2020-03-07   \n",
       "3  Finland’s Millennial Feminist Govt to Help Gre...  2020-03-07   \n",
       "4  Nearly 8 in 10 Greeks Support Government’s Bor...  2020-03-07   \n",
       "\n",
       "                                                link  publisher  \n",
       "0  https://www.breitbart.com/europe/2020/03/07/to...  Breitbart  \n",
       "1  https://www.breitbart.com/europe/2020/03/07/gr...  Breitbart  \n",
       "2  https://www.breitbart.com/europe/2020/03/07/pi...  Breitbart  \n",
       "3  https://www.breitbart.com/europe/2020/03/07/fi...  Breitbart  \n",
       "4  https://www.breitbart.com/europe/2020/03/07/ne...  Breitbart  "
      ]
     },
     "execution_count": 35,
     "metadata": {},
     "output_type": "execute_result"
    }
   ],
   "source": [
    "# make sure it looks nice\n",
    "breitbart_data.head()"
   ]
  },
  {
   "cell_type": "code",
   "execution_count": 15,
   "metadata": {},
   "outputs": [],
   "source": [
    "# read in old data\n",
    "old_breitbart_data = pd.read_csv('data/breitbart_data.csv')\n",
    "\n",
    "# append new data\n",
    "breitbart_data = old_breitbart_data.append(breitbart_data).drop_duplicates()\n",
    "\n",
    "# save new .csv\n",
    "breitbart_data.to_csv(\"data/breitbart_data.csv\", index = False)"
   ]
  },
  {
   "cell_type": "markdown",
   "metadata": {},
   "source": [
    "### 2. Fox - Conservative"
   ]
  },
  {
   "cell_type": "markdown",
   "metadata": {},
   "source": [
    "Get links from the Fox Politics homepage"
   ]
  },
  {
   "cell_type": "code",
   "execution_count": 12,
   "metadata": {},
   "outputs": [],
   "source": [
    "# load the HTML content using requests and save into a variable\n",
    "fox_requests = requests.get('https://www.foxnews.com/politics')\n",
    "fox_homepage = fox_requests.content"
   ]
  },
  {
   "cell_type": "code",
   "execution_count": 13,
   "metadata": {},
   "outputs": [],
   "source": [
    "# create a soup to allow BeautifulSoup to work\n",
    "fox_soup = BeautifulSoup(fox_homepage, 'html.parser')"
   ]
  },
  {
   "cell_type": "code",
   "execution_count": 15,
   "metadata": {},
   "outputs": [
    {
     "name": "stdout",
     "output_type": "stream",
     "text": [
      "[<article class=\"article story-1\"><div class=\"m\"><a href=\"/politics/will-female-youth-and-minority-voters-lose-interest-in-2020-as-race-comes-down-to-3-white-septuagenarians\"><picture><img alt=\"Will female, youth and minority voters lose interest as 2020 race comes down to 3 white septuagenarians?\" src=\"https://a57.foxnews.com/cf-images.us-east-1.prod.boltdns.net/v1/static/694940094001/842313a1-037e-41ec-87f4-b2424824f597/f6733baa-49d0-4b1e-b935-d0440d6b7ea1/1280x720/match/920/518/image.jpg?ve=1&amp;tl=1\"/></picture></a><!-- --><div class=\"kicker\"><span class=\"kicker-text\"></span></div><!-- --><!-- --></div><div class=\"info\"><header class=\"info-header\"><div class=\"meta\"><span class=\"eyebrow\"><a href=\"/category/politics/elections\">ELECTIONS</a></span><span class=\"time\">1 day ago</span></div><h2 class=\"title\"><a href=\"/politics/will-female-youth-and-minority-voters-lose-interest-in-2020-as-race-comes-down-to-3-white-septuagenarians\">Will female, youth and minority voters lose interest as 2020 race comes down to 3 white septuagenarians?</a></h2></header><div class=\"content\"><p class=\"dek\"><a href=\"/politics/will-female-youth-and-minority-voters-lose-interest-in-2020-as-race-comes-down-to-3-white-septuagenarians\">Many women are dejected now that all the major female presidential candidates have dropped out. Even more consequential than this immediate dejection is the possibility that with a 77-year old Biden or a 78-year old Sanders facing off against a 73-year old President Trump in November, there could be a lack of interest on the part of female, younger, and minority voters.</a></p><div class=\"related\"><ul></ul></div></div></div></article>, <article class=\"article story-1\"><div class=\"m\"><a href=\"/politics/trump-to-visit-tennessee-tornadoes\"><picture><img alt=\"Trump visiting Tennessee after deadly tornadoes\" src=\"https://a57.foxnews.com/static.foxnews.com/foxnews.com/content/uploads/2020/03/920/518/AP20066618572494.jpg?ve=1&amp;tl=1\"/></picture></a><!-- --><div class=\"kicker\"><span class=\"kicker-text\"></span></div><!-- --><!-- --></div><div class=\"info\"><header class=\"info-header\"><div class=\"meta\"><span class=\"eyebrow\"><a href=\"/category/politics/executive/white-house\">White House</a></span><span class=\"time\">1 day ago</span></div><h2 class=\"title\"><a href=\"/politics/trump-to-visit-tennessee-tornadoes\">Trump visiting Tennessee after deadly tornadoes</a></h2></header><div class=\"content\"><p class=\"dek\"><a href=\"/politics/trump-to-visit-tennessee-tornadoes\">President Trump on Friday will visit parts of Tennessee that were hit by tornadoes earlier this week, leaving dozens dead and many more injured.</a></p><div class=\"related\"><ul></ul></div></div></div></article>, <article class=\"article story-2\"><div class=\"m\"><a href=\"/politics/trump-cancels-trip-to-cdc-amid-coronavirus-outbreak\"><picture><img alt=\"Trump signs $8.3B coronavirus spending bill: 'It’s an unforeseen problem'\" src=\"https://a57.foxnews.com/cf-images.us-east-1.prod.boltdns.net/v1/static/694940094001/e2e35633-7dc7-4d65-9ec6-8cdfe06547c3/973d3284-2ba2-48ff-935a-10ad7baf52b1/1280x720/match/920/518/image.jpg?ve=1&amp;tl=1\"/></picture></a><!-- --><div class=\"kicker\"><span class=\"kicker-text\"></span></div><!-- --><!-- --></div><div class=\"info\"><header class=\"info-header\"><div class=\"meta\"><span class=\"eyebrow\"><a href=\"/category/health\">HEALTH</a></span><span class=\"time\">1 day ago</span></div><h2 class=\"title\"><a href=\"/politics/trump-cancels-trip-to-cdc-amid-coronavirus-outbreak\">Trump signs $8.3B coronavirus spending bill: 'It’s an unforeseen problem'</a></h2></header><div class=\"content\"><p class=\"dek\"><a href=\"/politics/trump-cancels-trip-to-cdc-amid-coronavirus-outbreak\">The legislation represents the culmination of a widely-bipartisan effort at a time when Washington, D.C. is bitterly polarized.</a></p><div class=\"related\"><ul></ul></div></div></div></article>, <article class=\"article\"><div class=\"m\"><a href=\"https://video.foxnews.com/v/6139293868001/\"><img alt=\"Rep. Debbie Dingell previews upcoming Michigan primary\" src=\"https://a57.foxnews.com/cf-images.us-east-1.prod.boltdns.net/v1/static/694940094001/3e39bc80-c03f-408a-9c62-6ccf581fd1a7/829fe266-aa41-48f8-affb-fa0f578d06ee/1280x720/match/348/196/image.jpg?ve=1&amp;tl=1\"/></a><div><!-- --><!-- --><span class=\"pill duration\"><a class=\"pill-link\" href=\"https://video.foxnews.com/v/6139293868001/\">4:38</a></span></div></div><div class=\"info\"><header class=\"info-header\"><div class=\"meta\"><!-- --><div><span class=\"eyebrow\"><a href=\"https://video.foxnews.com/v/\">VIDEO</a></span><span class=\"time\">1 hour ago</span></div></div><h4 class=\"title\"><a href=\"https://video.foxnews.com/v/6139293868001/\">Rep. Debbie Dingell previews upcoming Michigan primary</a></h4></header><div class=\"content\"><p class=\"dek\"><a href=\"https://video.foxnews.com/v/6139293868001/\">Joe Biden looks to extend delegate lead over Bernie Sanders heading into Michigan primary.</a></p></div><!-- --></div></article>, <article class=\"article\"><div class=\"m\"><a href=\"https://video.foxnews.com/v/6139293024001/\"><img alt=\"Sen. Rick Scott on threat coronavirus poses to Florida's economy\" src=\"https://a57.foxnews.com/cf-images.us-east-1.prod.boltdns.net/v1/static/694940094001/2206a176-42c3-485a-b681-5f84bef1634e/b0a9f61f-5b9d-47c5-bcc4-46f4d1fdb298/1280x720/match/348/196/image.jpg?ve=1&amp;tl=1\"/></a><div><!-- --><!-- --><span class=\"pill duration\"><a class=\"pill-link\" href=\"https://video.foxnews.com/v/6139293024001/\">5:35</a></span></div></div><div class=\"info\"><header class=\"info-header\"><div class=\"meta\"><!-- --><div><span class=\"eyebrow\"><a href=\"https://video.foxnews.com/v/\">VIDEO</a></span><span class=\"time\">1 hour ago</span></div></div><h4 class=\"title\"><a href=\"https://video.foxnews.com/v/6139293024001/\">Sen. Rick Scott on threat coronavirus poses to Florida's economy</a></h4></header><div class=\"content\"><p class=\"dek\"><a href=\"https://video.foxnews.com/v/6139293024001/\">Florida's tourism industry braces for disruption as coronavirus fears shake the American public.</a></p></div><!-- --></div></article>, <article class=\"article\"><div class=\"m\"><a href=\"https://video.foxnews.com/v/6139287220001/\"><img alt=\"Rep. Andy Biggs on why he voted against coronavirus spending bill\" src=\"https://a57.foxnews.com/cf-images.us-east-1.prod.boltdns.net/v1/static/694940094001/1b2edbfb-b8bb-4300-b7cf-f905db2e16d0/e4fca35f-80b3-4d3c-ad48-661ef6a0b832/1280x720/match/348/196/image.jpg?ve=1&amp;tl=1\"/></a><div><!-- --><!-- --><span class=\"pill duration\"><a class=\"pill-link\" href=\"https://video.foxnews.com/v/6139287220001/\">4:03</a></span></div></div><div class=\"info\"><header class=\"info-header\"><div class=\"meta\"><!-- --><div><span class=\"eyebrow\"><a href=\"https://video.foxnews.com/v/\">VIDEO</a></span><span class=\"time\">1 hour ago</span></div></div><h4 class=\"title\"><a href=\"https://video.foxnews.com/v/6139287220001/\">Rep. Andy Biggs on why he voted against coronavirus spending bill</a></h4></header><div class=\"content\"><p class=\"dek\"><a href=\"https://video.foxnews.com/v/6139287220001/\">President Trump signs off on $8.3 billion coronavirus emergency spending bill.</a></p></div><!-- --></div></article>, <article class=\"article\"><div class=\"m\"><a href=\"/politics/ocasio-cortez-illegal-immigrants-2020-census\"><img alt=\"Alexandria Ocasio-Cortez calls on illegal immigrants to fill out 2020 census\" src=\"https://a57.foxnews.com/cf-images.us-east-1.prod.boltdns.net/v1/static/694940094001/5056c2d2-8523-491e-a69e-83d454349f2f/d6351842-be21-4b1e-a386-5188970121ae/1280x720/match/348/196/image.jpg?ve=1&amp;tl=1\"/></a><div><!-- --><!-- --><!-- --></div></div><div class=\"info\"><header class=\"info-header\"><div class=\"meta\"><!-- --><div><span class=\"eyebrow\"><a href=\"/category/person/alexandria-ocasio-cortez\">Alexandria Ocasio-Cortez</a></span><span class=\"time\">2 hours ago</span></div></div><h4 class=\"title\"><a href=\"/politics/ocasio-cortez-illegal-immigrants-2020-census\">Alexandria Ocasio-Cortez calls on illegal immigrants to fill out 2020 census</a></h4></header><div class=\"content\"><p class=\"dek\"><a href=\"/politics/ocasio-cortez-illegal-immigrants-2020-census\">Rep. Alexandria Ocasio-Cortez, D-N.Y., came under fire this week after urging illegal immigrants to participate in the upcoming census -- with opponents saying her language was “anti-American,”</a></p></div><!-- --></div></article>, <article class=\"article\"><div class=\"m\"><a href=\"https://video.foxnews.com/v/6139281193001/\"><img alt=\"Acting CBP Commissioner Mark Morgan on progress to secure US border, threat from coronavirus\" src=\"https://a57.foxnews.com/cf-images.us-east-1.prod.boltdns.net/v1/static/694940094001/e880d300-53d3-4a83-95ed-8ee24f194b78/cd9ed632-b283-4edb-84ed-6c5904cff80f/1280x720/match/348/196/image.jpg?ve=1&amp;tl=1\"/></a><div><!-- --><!-- --><span class=\"pill duration\"><a class=\"pill-link\" href=\"https://video.foxnews.com/v/6139281193001/\">5:13</a></span></div></div><div class=\"info\"><header class=\"info-header\"><div class=\"meta\"><!-- --><div><span class=\"eyebrow\"><a href=\"https://video.foxnews.com/v/\">VIDEO</a></span><span class=\"time\">3 hours ago</span></div></div><h4 class=\"title\"><a href=\"https://video.foxnews.com/v/6139281193001/\">Acting CBP Commissioner Mark Morgan on progress to secure US border, threat from coronavirus</a></h4></header><div class=\"content\"><p class=\"dek\"><a href=\"https://video.foxnews.com/v/6139281193001/\">Since October 2019, approximately 14,000 more illegal immigrants have been removed from the U.S. than arrived; insight from acting CBP Commissioner Mark Morgan.</a></p></div><!-- --></div></article>, <article class=\"article\"><div class=\"m\"><a href=\"https://video.foxnews.com/v/6139277177001/\"><img alt=\"Carrie Severino slams Sen. Chuck Schumer's 'totally unacceptable' attack on Justices Kavanaugh and Gorsuch\" src=\"https://a57.foxnews.com/cf-images.us-east-1.prod.boltdns.net/v1/static/694940094001/253dee77-f2f4-4649-a2f9-3e26eea7ef60/f5046e64-b460-4044-a891-bebd493a4f40/1280x720/match/348/196/image.jpg?ve=1&amp;tl=1\"/></a><div><!-- --><!-- --><span class=\"pill duration\"><a class=\"pill-link\" href=\"https://video.foxnews.com/v/6139277177001/\">3:50</a></span></div></div><div class=\"info\"><header class=\"info-header\"><div class=\"meta\"><!-- --><div><span class=\"eyebrow\"><a href=\"https://video.foxnews.com/v/\">VIDEO</a></span><span class=\"time\">3 hours ago</span></div></div><h4 class=\"title\"><a href=\"https://video.foxnews.com/v/6139277177001/\">Carrie Severino slams Sen. Chuck Schumer's 'totally unacceptable' attack on Justices Kavanaugh and Gorsuch</a></h4></header><div class=\"content\"><p class=\"dek\"><a href=\"https://video.foxnews.com/v/6139277177001/\">You'd have to go back 200 years in U.S. history to find another example of this clear an attack by the political branch on judicial independence, says Carrie Severino, president of the Judicial Crisis Network and a former clerk to Supreme Court Justice Clarence Thomas.</a></p></div><!-- --></div></article>, <article class=\"article\"><div class=\"m\"><a href=\"/politics/fox-news-voter-analysis-biden-sanders-emerge-from-dem-pack-on-super-tuesday\"><picture><img alt=\"Fox News Voter Analysis: Biden, Sanders emerge from Dem pack on Super Tuesday\" src=\"https://a57.foxnews.com/cf-images.us-east-1.prod.boltdns.net/v1/static/694940094001/a36d8546-b4f5-4f9b-ac25-56ebc689f00d/8b100ee3-e6df-4237-aea1-49e89e2e956e/1280x720/match/540/304/image.jpg?ve=1&amp;tl=1\"/></picture></a><!-- --><!-- --></div><div class=\"info\"><header class=\"info-header\"><div class=\"meta\"><span class=\"eyebrow\"><a href=\"/category/topic/super-tuesday\">Super Tuesday</a></span><span class=\"time\">3 days ago</span></div><h4 class=\"title\"><a href=\"/politics/fox-news-voter-analysis-biden-sanders-emerge-from-dem-pack-on-super-tuesday\">Fox News Voter Analysis: Biden, Sanders emerge from Dem pack on Super Tuesday</a></h4></header></div></article>, <article class=\"article\"><div class=\"m\"><a href=\"/politics/fox-news-poll-trump-economy-failed-to-unify\"><picture><img alt=\"Fox News Poll: Voters say Trump succeeded on economy, but failed to unify US\" src=\"https://a57.foxnews.com/static.foxnews.com/foxnews.com/content/uploads/2020/02/540/304/2370eca5-Donald-Trump.jpg?ve=1&amp;tl=1\"/></picture></a><!-- --><!-- --></div><div class=\"info\"><header class=\"info-header\"><div class=\"meta\"><span class=\"eyebrow\"><a href=\"/category/columns/fox-news-poll\">Fox News Poll</a></span><span class=\"time\">February 28</span></div><h4 class=\"title\"><a href=\"/politics/fox-news-poll-trump-economy-failed-to-unify\">Fox News Poll: Voters say Trump succeeded on economy, but failed to unify US</a></h4></header></div></article>, <article class=\"article\"><div class=\"m\"><a href=\"/politics/fox-news-poll-capitalism-socialism-bernie-sanders\"><picture><img alt=\"Fox News Poll: Three in 10 voters view socialism positively\" src=\"https://a57.foxnews.com/static.foxnews.com/foxnews.com/content/uploads/2020/02/540/304/b99258a2-image.jpg?ve=1&amp;tl=1\"/></picture></a><!-- --><!-- --></div><div class=\"info\"><header class=\"info-header\"><div class=\"meta\"><span class=\"eyebrow\"><a href=\"/category/columns/fox-news-poll\">Fox News Poll</a></span><span class=\"time\">February 28</span></div><h4 class=\"title\"><a href=\"/politics/fox-news-poll-capitalism-socialism-bernie-sanders\">Fox News Poll: Three in 10 voters view socialism positively</a></h4></header></div></article>, <article class=\"article\"><div class=\"m\"><a href=\"/politics/fox-news-poll-sanders-knocks-biden-out-of-first-majority-thinks-trump-wins\"><picture><img alt=\"Fox News Poll: Sanders knocks Biden out of first, majority thinks Trump wins\" src=\"https://a57.foxnews.com/static.foxnews.com/foxnews.com/content/uploads/2020/02/540/304/10ee2e1a-Bernie-Sanders-Dem-Debate-AP.jpg?ve=1&amp;tl=1\"/></picture></a><!-- --><!-- --></div><div class=\"info\"><header class=\"info-header\"><div class=\"meta\"><span class=\"eyebrow\"><a href=\"/category/columns/fox-news-poll\">Fox News Poll</a></span><span class=\"time\">February 27</span></div><h4 class=\"title\"><a href=\"/politics/fox-news-poll-sanders-knocks-biden-out-of-first-majority-thinks-trump-wins\">Fox News Poll: Sanders knocks Biden out of first, majority thinks Trump wins</a></h4></header></div></article>, <article class=\"article\"><div class=\"m\"><a href=\"https://video.foxnews.com/v/6139281193001/\"><img alt=\"Acting CBP Commissioner Mark Morgan on progress to secure US border, threat from coronavirus\" src=\"https://a57.foxnews.com/cf-images.us-east-1.prod.boltdns.net/v1/static/694940094001/e880d300-53d3-4a83-95ed-8ee24f194b78/cd9ed632-b283-4edb-84ed-6c5904cff80f/1280x720/match/348/196/image.jpg?ve=1&amp;tl=1\"/></a><div><!-- --><!-- --><span class=\"pill duration\"><a class=\"pill-link\" href=\"https://video.foxnews.com/v/6139281193001/\">5:13</a></span></div></div><div class=\"info\"><header class=\"info-header\"><div class=\"meta\"><!-- --><div><!-- --><span class=\"time\">3 hours ago</span></div></div><h4 class=\"title\"><a href=\"https://video.foxnews.com/v/6139281193001/\">Acting CBP Commissioner Mark Morgan on progress to secure US border, threat from coronavirus</a></h4></header><div class=\"content\"><p class=\"dek\"><a href=\"https://video.foxnews.com/v/6139281193001/\">Since October 2019, approximately 14,000 more illegal immigrants have been removed from the U.S. than arrived; insight from acting CBP Commissioner Mark Morgan.</a></p></div><!-- --></div></article>, <article class=\"article\"><div class=\"m\"><a href=\"https://video.foxnews.com/v/6139277177001/\"><img alt=\"Carrie Severino slams Sen. Chuck Schumer's 'totally unacceptable' attack on Justices Kavanaugh and Gorsuch\" src=\"https://a57.foxnews.com/cf-images.us-east-1.prod.boltdns.net/v1/static/694940094001/253dee77-f2f4-4649-a2f9-3e26eea7ef60/f5046e64-b460-4044-a891-bebd493a4f40/1280x720/match/348/196/image.jpg?ve=1&amp;tl=1\"/></a><div><!-- --><!-- --><span class=\"pill duration\"><a class=\"pill-link\" href=\"https://video.foxnews.com/v/6139277177001/\">3:50</a></span></div></div><div class=\"info\"><header class=\"info-header\"><div class=\"meta\"><!-- --><div><!-- --><span class=\"time\">3 hours ago</span></div></div><h4 class=\"title\"><a href=\"https://video.foxnews.com/v/6139277177001/\">Carrie Severino slams Sen. Chuck Schumer's 'totally unacceptable' attack on Justices Kavanaugh and Gorsuch</a></h4></header><div class=\"content\"><p class=\"dek\"><a href=\"https://video.foxnews.com/v/6139277177001/\">You'd have to go back 200 years in U.S. history to find another example of this clear an attack by the political branch on judicial independence, says Carrie Severino, president of the Judicial Crisis Network and a former clerk to Supreme Court Justice Clarence Thomas.</a></p></div><!-- --></div></article>, <article class=\"article\"><div class=\"m\"><a href=\"https://video.foxnews.com/v/6139277154001/\"><img alt=\"Economist Peter Morici says US economy will be hit by coronavirus and President Trump should not be blamed\" src=\"https://a57.foxnews.com/cf-images.us-east-1.prod.boltdns.net/v1/static/694940094001/35abf4fc-a04e-4068-a9fe-03e677123168/87bcf0ce-f576-41fc-9830-55e4d71e99b9/1280x720/match/348/196/image.jpg?ve=1&amp;tl=1\"/></a><div><!-- --><!-- --><span class=\"pill duration\"><a class=\"pill-link\" href=\"https://video.foxnews.com/v/6139277154001/\">3:28</a></span></div></div><div class=\"info\"><header class=\"info-header\"><div class=\"meta\"><!-- --><div><!-- --><span class=\"time\">3 hours ago</span></div></div><h4 class=\"title\"><a href=\"https://video.foxnews.com/v/6139277154001/\">Economist Peter Morici says US economy will be hit by coronavirus and President Trump should not be blamed</a></h4></header><div class=\"content\"><p class=\"dek\"><a href=\"https://video.foxnews.com/v/6139277154001/\">The markets are assuming the worst about the coronavirus, says Peter Morici, former chief economist for the U.S. International Trade Commission and University of Maryland business professor.</a></p></div><!-- --></div></article>, <article class=\"article\"><div class=\"m\"><a href=\"/politics/house-prepares-telework-scenarios-amid-coronavirus-threat\"><img alt=\"House prepares for telework scenarios amid coronavirus threat\" src=\"https://a57.foxnews.com/static.foxnews.com/foxnews.com/content/uploads/2020/03/348/196/c1aa91df-Capture.jpg?ve=1&amp;tl=1\"/></a><div><!-- --><!-- --><!-- --></div></div><div class=\"info\"><header class=\"info-header\"><div class=\"meta\"><!-- --><div><!-- --><span class=\"time\">6 hours ago</span></div></div><h4 class=\"title\"><a href=\"/politics/house-prepares-telework-scenarios-amid-coronavirus-threat\">House prepares for telework scenarios amid coronavirus threat</a></h4></header><div class=\"content\"><p class=\"dek\"><a href=\"/politics/house-prepares-telework-scenarios-amid-coronavirus-threat\">Fox News has obtained a memo sent to all House offices by the House Administration Committee this evening about Congressional operations and the coronavirus threat. </a></p></div><!-- --></div></article>, <article class=\"article\"><div class=\"m\"><a href=\"/politics/tulsi-gabbard-calls-on-biden-sanders-to-demand-dnc-allow-her-on-arizona-debate-stage\"><img alt=\"Tulsi Gabbard calls on Biden, Sanders to demand DNC allow her on Arizona debate stage\" src=\"https://a57.foxnews.com/cf-images.us-east-1.prod.boltdns.net/v1/static/694940094001/ec64ffd0-f58d-4f3b-a1c8-fc1faab1a280/e8e4af83-7649-4f00-9406-5f18704967a6/1280x720/match/348/196/image.jpg?ve=1&amp;tl=1\"/></a><div><!-- --><!-- --><!-- --></div></div><div class=\"info\"><header class=\"info-header\"><div class=\"meta\"><!-- --><div><!-- --><span class=\"time\">8 hours ago</span></div></div><h4 class=\"title\"><a href=\"/politics/tulsi-gabbard-calls-on-biden-sanders-to-demand-dnc-allow-her-on-arizona-debate-stage\">Tulsi Gabbard calls on Biden, Sanders to demand DNC allow her on Arizona debate stage</a></h4></header><div class=\"content\"><p class=\"dek\"><a href=\"/politics/tulsi-gabbard-calls-on-biden-sanders-to-demand-dnc-allow-her-on-arizona-debate-stage\">The only woman remaining in the 2020 race for the White House is calling on her party's top two competitors to help pressure the Democratic National Committee (DNC) to allow her to participate in an upcoming presidential debate in Phoenix.</a></p></div><!-- --></div></article>, <article class=\"article\"><div class=\"m\"><a href=\"https://video.foxnews.com/v/6139221788001/\"><img alt=\"Trump weighs in on Elizabeth Warren leaving the 2020 race\" src=\"https://a57.foxnews.com/cf-images.us-east-1.prod.boltdns.net/v1/static/694940094001/dce47b56-03ba-4561-aa26-50507134d80f/5648e59f-8408-4f24-ba72-6e1a840a8591/1280x720/match/348/196/image.jpg?ve=1&amp;tl=1\"/></a><div><!-- --><!-- --><span class=\"pill duration\"><a class=\"pill-link\" href=\"https://video.foxnews.com/v/6139221788001/\">5:22</a></span></div></div><div class=\"info\"><header class=\"info-header\"><div class=\"meta\"><!-- --><div><!-- --><span class=\"time\">12 hours ago</span></div></div><h4 class=\"title\"><a href=\"https://video.foxnews.com/v/6139221788001/\">Trump weighs in on Elizabeth Warren leaving the 2020 race</a></h4></header><div class=\"content\"><p class=\"dek\"><a href=\"https://video.foxnews.com/v/6139221788001/\">Biden leads Sanders in Detroit poll; Tezlyn Figaro and Brian Brenberg weigh in.</a></p></div><!-- --></div></article>, <article class=\"article\"><div class=\"m\"><a href=\"https://video.foxnews.com/v/6139224549001/\"><img alt=\"Rep. Buck on vote against coronavirus emergency response bill\" src=\"https://a57.foxnews.com/cf-images.us-east-1.prod.boltdns.net/v1/static/694940094001/a1c30d8d-09c3-43e6-aea9-029a083fdd41/86af6fe3-21b6-4d4e-a921-c9d6fe532f82/1280x720/match/348/196/image.jpg?ve=1&amp;tl=1\"/></a><div><!-- --><!-- --><span class=\"pill duration\"><a class=\"pill-link\" href=\"https://video.foxnews.com/v/6139224549001/\">3:60</a></span></div></div><div class=\"info\"><header class=\"info-header\"><div class=\"meta\"><!-- --><div><!-- --><span class=\"time\">13 hours ago</span></div></div><h4 class=\"title\"><a href=\"https://video.foxnews.com/v/6139224549001/\">Rep. Buck on vote against coronavirus emergency response bill</a></h4></header><div class=\"content\"><p class=\"dek\"><a href=\"https://video.foxnews.com/v/6139224549001/\">Colorado Republican Rep. Ken Buck speaks out against the politicization of coronavirus.</a></p></div><!-- --></div></article>, <article class=\"article\"><div class=\"m\"><a href=\"https://video.foxnews.com/v/6139221041001/\"><img alt=\"MSNBC's Brian Williams makes miscalculation on Bloomberg math\" src=\"https://a57.foxnews.com/cf-images.us-east-1.prod.boltdns.net/v1/static/694940094001/c1f88169-aad8-4ca3-9b11-6756e06abb19/3eb353a2-1605-4583-a54f-38e9ea024e14/1280x720/match/348/196/image.jpg?ve=1&amp;tl=1\"/></a><div><!-- --><!-- --><span class=\"pill duration\"><a class=\"pill-link\" href=\"https://video.foxnews.com/v/6139221041001/\">5:16</a></span></div></div><div class=\"info\"><header class=\"info-header\"><div class=\"meta\"><!-- --><div><!-- --><span class=\"time\">13 hours ago</span></div></div><h4 class=\"title\"><a href=\"https://video.foxnews.com/v/6139221041001/\">MSNBC's Brian Williams makes miscalculation on Bloomberg math</a></h4></header><div class=\"content\"><p class=\"dek\"><a href=\"https://video.foxnews.com/v/6139221041001/\">Fox News contributor Ari Fleischer and The Spectator columnist Chadwick Moore break down the media's worst offenders of the week.</a></p></div><!-- --></div></article>, <article class=\"article\"><div class=\"m\"><a href=\"/politics/trump-mark-meadows-white-house-chief-of-staff-mick-mulvaney\"><img alt=\"Trump announces Mark Meadows to replace Mick Mulvaney as White House chief of staff\" src=\"https://a57.foxnews.com/static.foxnews.com/foxnews.com/content/uploads/2019/03/348/196/f0d15faf-AP19073620492262.jpg?ve=1&amp;tl=1\"/></a><div><!-- --><!-- --><!-- --></div></div><div class=\"info\"><header class=\"info-header\"><div class=\"meta\"><!-- --><div><!-- --><span class=\"time\">13 hours ago</span></div></div><h4 class=\"title\"><a href=\"/politics/trump-mark-meadows-white-house-chief-of-staff-mick-mulvaney\">Trump announces Mark Meadows to replace Mick Mulvaney as White House chief of staff</a></h4></header><div class=\"content\"><p class=\"dek\"><a href=\"/politics/trump-mark-meadows-white-house-chief-of-staff-mick-mulvaney\">President Trump made a surprise announcement on Friday night that Rep. Mark Meadows, R-N.C., would become his new White House Chief of Staff, replacing acting Chief of Staff Mick Mulvaney. </a></p></div><!-- --></div></article>, <article class=\"article\"><div class=\"m\"><a href=\"https://video.foxnews.com/v/6139223290001/\"><img alt=\"Bill Clinton says he had affair with Lewinsky to manage anxieties\" src=\"https://a57.foxnews.com/cf-images.us-east-1.prod.boltdns.net/v1/static/694940094001/29a808ca-6780-48dd-9965-73dfb8fc70a8/20d2042f-5c7a-4637-a4a2-667ae89ce7db/1280x720/match/348/196/image.jpg?ve=1&amp;tl=1\"/></a><div><!-- --><!-- --><span class=\"pill duration\"><a class=\"pill-link\" href=\"https://video.foxnews.com/v/6139223290001/\">4:58</a></span></div></div><div class=\"info\"><header class=\"info-header\"><div class=\"meta\"><!-- --><div><!-- --><span class=\"time\">13 hours ago</span></div></div><h4 class=\"title\"><a href=\"https://video.foxnews.com/v/6139223290001/\">Bill Clinton says he had affair with Lewinsky to manage anxieties</a></h4></header><div class=\"content\"><p class=\"dek\"><a href=\"https://video.foxnews.com/v/6139223290001/\">Reaction from Clinton accuser Juanita Broaddrick.</a></p></div><!-- --></div></article>, <article class=\"article\"><div class=\"m\"><a href=\"https://video.foxnews.com/v/6139220216001/\"><img alt=\"Sen. Johnson: Diligent oversight eventually brings out the truth\" src=\"https://a57.foxnews.com/cf-images.us-east-1.prod.boltdns.net/v1/static/694940094001/391547b4-c85d-42d8-b3fe-c1025e55f5be/ca4b5bf9-164b-4bdc-974e-15074fbd72e7/1280x720/match/348/196/image.jpg?ve=1&amp;tl=1\"/></a><div><!-- --><!-- --><span class=\"pill duration\"><a class=\"pill-link\" href=\"https://video.foxnews.com/v/6139220216001/\">4:51</a></span></div></div><div class=\"info\"><header class=\"info-header\"><div class=\"meta\"><!-- --><div><!-- --><span class=\"time\">13 hours ago</span></div></div><h4 class=\"title\"><a href=\"https://video.foxnews.com/v/6139220216001/\">Sen. Johnson: Diligent oversight eventually brings out the truth</a></h4></header><div class=\"content\"><p class=\"dek\"><a href=\"https://video.foxnews.com/v/6139220216001/\">Homeland Security Committee chairman Senator Ron Johnson on new developments in Biden-Burisma probe.</a></p></div><!-- --></div></article>, <article class=\"article\"><div class=\"m\"><a href=\"https://video.foxnews.com/v/6139213372001/\"><img alt=\"Biden faces wide-range of campaign vulnerabilities in 2020 race\" src=\"https://a57.foxnews.com/cf-images.us-east-1.prod.boltdns.net/v1/static/694940094001/1675c7d4-ec16-4438-abfb-c587614599e1/21ae9751-a522-4f9c-9be6-102c59865837/1280x720/match/348/196/image.jpg?ve=1&amp;tl=1\"/></a><div><!-- --><!-- --><span class=\"pill duration\"><a class=\"pill-link\" href=\"https://video.foxnews.com/v/6139213372001/\">4:51</a></span></div></div><div class=\"info\"><header class=\"info-header\"><div class=\"meta\"><!-- --><div><!-- --><span class=\"time\">13 hours ago</span></div></div><h4 class=\"title\"><a href=\"https://video.foxnews.com/v/6139213372001/\">Biden faces wide-range of campaign vulnerabilities in 2020 race</a></h4></header><div class=\"content\"><p class=\"dek\"><a href=\"https://video.foxnews.com/v/6139213372001/\">Reaction from former White House Chief of Staff Reince Priebus and House Minority Whip Steve Scalise.</a></p></div><!-- --></div></article>, <article class=\"article\"><div class=\"m\"><a href=\"/politics/trump-to-award-golfers-annika-sorenstam-gary-j-player-the-presidential-medal-of-freedom\"><img alt=\"Trump to award golfers Annika Sorenstam, Gary J. Player the Presidential Medal of Freedom\" src=\"https://a57.foxnews.com/static.foxnews.com/foxnews.com/content/uploads/2020/03/348/196/MOF.jpg?ve=1&amp;tl=1\"/></a><div><!-- --><!-- --><!-- --></div></div><div class=\"info\"><header class=\"info-header\"><div class=\"meta\"><!-- --><div><!-- --><span class=\"time\">14 hours ago</span></div></div><h4 class=\"title\"><a href=\"/politics/trump-to-award-golfers-annika-sorenstam-gary-j-player-the-presidential-medal-of-freedom\">Trump to award golfers Annika Sorenstam, Gary J. Player the Presidential Medal of Freedom</a></h4></header><div class=\"content\"><p class=\"dek\"><a href=\"/politics/trump-to-award-golfers-annika-sorenstam-gary-j-player-the-presidential-medal-of-freedom\">President Trump will award the Medal of Freedom to golfers Gary J. Player and Annike Sorenstam later this month, the White House said Friday. </a></p></div><!-- --></div></article>, <article class=\"article\"><div class=\"m\"><a href=\"https://video.foxnews.com/v/6139215292001/\"><img alt=\"Trump campaign files defamation suit against CNN\" src=\"https://a57.foxnews.com/cf-images.us-east-1.prod.boltdns.net/v1/static/694940094001/8b97de39-55e4-401a-a114-0c47563ad627/f72a0c2d-0777-49b8-9066-3bf36231f1ec/1280x720/match/348/196/image.jpg?ve=1&amp;tl=1\"/></a><div><!-- --><!-- --><span class=\"pill duration\"><a class=\"pill-link\" href=\"https://video.foxnews.com/v/6139215292001/\">4:12</a></span></div></div><div class=\"info\"><header class=\"info-header\"><div class=\"meta\"><!-- --><div><!-- --><span class=\"time\">14 hours ago</span></div></div><h4 class=\"title\"><a href=\"https://video.foxnews.com/v/6139215292001/\">Trump campaign files defamation suit against CNN</a></h4></header><div class=\"content\"><p class=\"dek\"><a href=\"https://video.foxnews.com/v/6139215292001/\">Trump suing over 'false and defamatory' statements made by the news network; reaction from Kayleigh McEnany and Sean Spicer.</a></p></div><!-- --></div></article>, <article class=\"article\"><div class=\"m\"><a href=\"https://video.foxnews.com/v/6139209248001/\"><img alt=\"Pink Floyd's Roger Waters: Julian Assange being used as a warning to other journalists\" src=\"https://a57.foxnews.com/cf-images.us-east-1.prod.boltdns.net/v1/static/694940094001/acf03cc9-ec9d-4e6f-9d52-c23c4798aff2/2a91e9b4-d275-4945-a0a8-58c69b971de0/1280x720/match/348/196/image.jpg?ve=1&amp;tl=1\"/></a><div><!-- --><!-- --><span class=\"pill duration\"><a class=\"pill-link\" href=\"https://video.foxnews.com/v/6139209248001/\">7:11</a></span></div></div><div class=\"info\"><header class=\"info-header\"><div class=\"meta\"><!-- --><div><!-- --><span class=\"time\">15 hours ago</span></div></div><h4 class=\"title\"><a href=\"https://video.foxnews.com/v/6139209248001/\">Pink Floyd's Roger Waters: Julian Assange being used as a warning to other journalists</a></h4></header><div class=\"content\"><p class=\"dek\"><a href=\"https://video.foxnews.com/v/6139209248001/\">Pink Floyd co-founder Roger Waters discusses his fight to help Julian Assange on 'Tucker Carlson Tonight.'</a></p></div><!-- --></div></article>, <article class=\"article\"><div class=\"m\"><a href=\"/media/gender-questions-swirl-as-warren-leaves-race-to-two-old-men\"><img alt=\"Gender questions swirl as Warren leaves race to two old men\" src=\"https://a57.foxnews.com/cf-images.us-east-1.prod.boltdns.net/v1/static/694940094001/921ee92b-1cd9-4c26-b2d7-8e174ecb19a9/181dcd7d-cefb-4b58-b957-7064de70598d/1280x720/match/348/196/image.jpg?ve=1&amp;tl=1\"/></a><div><!-- --><!-- --><!-- --></div></div><div class=\"info\"><header class=\"info-header\"><div class=\"meta\"><!-- --><div><span class=\"eyebrow\"><a href=\"/category/columns/media-buzz\">Media Buzz</a></span><span class=\"time\">1 day ago</span></div></div><h4 class=\"title\"><a href=\"/media/gender-questions-swirl-as-warren-leaves-race-to-two-old-men\">Gender questions swirl as Warren leaves race to two old men</a></h4></header><div class=\"content\"><!-- --></div><!-- --></div></article>, <article class=\"article\"><div class=\"m\"><a href=\"/media/bloomberg-investment-bombs-as-press-belatedly-boosts-biden\"><img alt=\"Bloomberg investment bombs as press belatedly boosts Biden\" src=\"https://a57.foxnews.com/cf-images.us-east-1.prod.boltdns.net/v1/static/694940094001/9e4a8b9f-b4ef-4f48-941e-ae97fc8343ef/9fe415db-946f-4604-9f51-2f168ac9457b/1280x720/match/348/196/image.jpg?ve=1&amp;tl=1\"/></a><div><!-- --><!-- --><!-- --></div></div><div class=\"info\"><header class=\"info-header\"><div class=\"meta\"><!-- --><div><span class=\"eyebrow\"><a href=\"/category/columns/media-buzz\">Media Buzz</a></span><span class=\"time\">2 days ago</span></div></div><h4 class=\"title\"><a href=\"/media/bloomberg-investment-bombs-as-press-belatedly-boosts-biden\">Bloomberg investment bombs as press belatedly boosts Biden</a></h4></header><div class=\"content\"><!-- --></div><!-- --></div></article>, <article class=\"article\"><div class=\"m\"><a href=\"/media/biden-shocks-the-pundits-again-with-surprisingly-strong-super-tuesday\"><img alt=\"Biden shocks the pundits, again, with surprisingly strong Super Tuesday\" src=\"https://a57.foxnews.com/static.foxnews.com/foxnews.com/content/uploads/2020/03/348/196/AP20064134467431.jpg?ve=1&amp;tl=1\"/></a><div><!-- --><!-- --><!-- --></div></div><div class=\"info\"><header class=\"info-header\"><div class=\"meta\"><!-- --><div><span class=\"eyebrow\"><a href=\"/category/columns/media-buzz\">Media Buzz</a></span><span class=\"time\">3 days ago</span></div></div><h4 class=\"title\"><a href=\"/media/biden-shocks-the-pundits-again-with-surprisingly-strong-super-tuesday\">Biden shocks the pundits, again, with surprisingly strong Super Tuesday</a></h4></header><div class=\"content\"><!-- --></div><!-- --></div></article>, <article class=\"article\"><div class=\"m\"><a href=\"/opinion/sally-pipes-biden-and-sanders-would-both-end-private-health-insurance-despite-what-biden-claims\"><img alt=\"Sally Pipes: Biden and Sanders would both end private health insurance, despite what Biden claims\" src=\"https://a57.foxnews.com/cf-images.us-east-1.prod.boltdns.net/v1/static/694940094001/af143fac-5139-4453-b568-9f3007ac224e/bb9b5fd7-5e9e-407e-b21b-1437f9a2c8a4/1280x720/match/348/196/image.jpg?ve=1&amp;tl=1\"/></a><div><!-- --><!-- --><!-- --></div></div><div class=\"info\"><header class=\"info-header\"><div class=\"meta\"><!-- --><div><!-- --><!-- --></div></div><h4 class=\"title\"><a href=\"/opinion/sally-pipes-biden-and-sanders-would-both-end-private-health-insurance-despite-what-biden-claims\">Sally Pipes: Biden and Sanders would both end private health insurance, despite what Biden claims</a></h4></header><div class=\"content\"><!-- --></div><!-- --></div></article>, <article class=\"article\"><div class=\"m\"><a href=\"/media/exclusive-charlie-kirk-this-is-why-millennials-will-flee-bernie-sanders\"><img alt=\"Charlie Kirk: This is why millennials will flee Bernie Sanders\" src=\"https://a57.foxnews.com/static.foxnews.com/foxnews.com/content/uploads/2020/03/348/196/CHARLIE-KIRK.jpg?ve=1&amp;tl=1\"/></a><div><!-- --><!-- --><!-- --></div></div><div class=\"info\"><header class=\"info-header\"><div class=\"meta\"><!-- --><div><!-- --><!-- --></div></div><h4 class=\"title\"><a href=\"/media/exclusive-charlie-kirk-this-is-why-millennials-will-flee-bernie-sanders\">Charlie Kirk: This is why millennials will flee Bernie Sanders</a></h4></header><div class=\"content\"><!-- --></div><!-- --></div></article>, <article class=\"article\"><div class=\"m\"><a href=\"/media/aoc-claims-biden-overperformed-super-tuesday-because-his-campaign-faced-low-expectations\"><img alt=\"AOC claims Biden 'overperformed' Super Tuesday because his campaign faced 'low expectations'\" src=\"https://a57.foxnews.com/static.foxnews.com/foxnews.com/content/uploads/2020/03/348/196/aoc-biden.jpg?ve=1&amp;tl=1\"/></a><div><!-- --><!-- --><!-- --></div></div><div class=\"info\"><header class=\"info-header\"><div class=\"meta\"><!-- --><div><!-- --><!-- --></div></div><h4 class=\"title\"><a href=\"/media/aoc-claims-biden-overperformed-super-tuesday-because-his-campaign-faced-low-expectations\">AOC claims Biden 'overperformed' Super Tuesday because his campaign faced 'low expectations'</a></h4></header><div class=\"content\"><!-- --></div><!-- --></div></article>, <article class=\"article\"><div class=\"m\"><a href=\"/opinion/larry-elder-in-trump-era-hollywood-its-dangerous-to-be-a-trump-supporter\"><img alt=\"Larry Elder: In Trump-era Hollywood, it's dangerous to be a conservative\" src=\"https://a57.foxnews.com/cf-images.us-east-1.prod.boltdns.net/v1/static/694940094001/e231a71e-57bb-4da3-89b7-0c7e879d4ba5/54ca32bb-0b86-4278-addd-d613d7276d00/1280x720/match/348/196/image.jpg?ve=1&amp;tl=1\"/></a><div><!-- --><!-- --><!-- --></div></div><div class=\"info\"><header class=\"info-header\"><div class=\"meta\"><!-- --><div><!-- --><!-- --></div></div><h4 class=\"title\"><a href=\"/opinion/larry-elder-in-trump-era-hollywood-its-dangerous-to-be-a-trump-supporter\">Larry Elder: In Trump-era Hollywood, it's dangerous to be a conservative</a></h4></header><div class=\"content\"><!-- --></div><!-- --></div></article>]\n"
     ]
    }
   ],
   "source": [
    "# locate article links\n",
    "fox_tags = fox_soup.find_all('article')"
   ]
  },
  {
   "cell_type": "code",
   "execution_count": 36,
   "metadata": {},
   "outputs": [],
   "source": [
    "number_of_articles = 30\n",
    "\n",
    "fox_links = []\n",
    "fox_titles = []\n",
    "fox_dates = []\n",
    "fox_contents = []\n",
    "\n",
    "# get homepage article links\n",
    "for n in np.arange(0, number_of_articles):\n",
    "    link = fox_tags[n].find('a')\n",
    "    link = link.get('href')\n",
    "    link = \"https://foxnews.com\" + link\n",
    "    fox_links.append(link)\n",
    "    fox_links = [x for x in fox_links if \"/v/\" not in x]"
   ]
  },
  {
   "cell_type": "code",
   "execution_count": 38,
   "metadata": {},
   "outputs": [
    {
     "name": "stdout",
     "output_type": "stream",
     "text": [
      "['\\n      {\\n        \"@context\": \"http://schema.org\",\\n        \"@type\": \"NewsArticle\",\\n        \"mainEntityOfPage\": \"https://www.foxnews.com/politics/will-female-youth-and-minority-voters-lose-interest-in-2020-as-race-comes-down-to-3-white-septuagenarians\",\\n        \"headline\": \"Will female, youth and minority voters lose interest as 2020 race comes down to 3 white septuagenarians?\",\\n        \"datePublished\": \"2020-03-06T11:45:56-05:00\",\\n        \"dateModified\": \"2020-03-06T12:16:19-05:00\",\\n        \"description\": \"Many women are dejected now that all the major female presidential candidates have dropped out. Even more consequential than this immediate dejection is the possibility that with a 77-year old Biden or a 78-year old Sanders facing off against a 73-year old President Trump in November, there could be a lack of interest on the part of female, younger, and minority voters.\",\\n        \"author\": {\\n          \"@type\": \"Person\",\\n          \"name\": \"Paul Steinhauser\"\\n        },\\n        \"publisher\": {\\n          \"@type\": \"Organization\",\\n          \"name\": \"Fox News\",\\n          \"logo\": {\\n            \"@type\": \"ImageObject\",\\n            \"url\": \"https://static.foxnews.com/static/orion/styles/img/fox-news/amp/fox-news-logo.png\",\\n            \"width\": 133,\\n            \"height\": 60\\n          }\\n        },\\n        \"image\": {\\n          \"@type\": \"ImageObject\",\\n          \"url\": \"https://a57.foxnews.com/cf-images.us-east-1.prod.boltdns.net/v1/static/694940094001/842313a1-037e-41ec-87f4-b2424824f597/f6733baa-49d0-4b1e-b935-d0440d6b7ea1/1280x720/match/696/392/image.jpg?ve=1&tl=1\",\\n          \"width\": 696,\\n          \"height\": 392\\n        }\\n      }\\n    ', '\\n      {\\n        \"@context\": \"http://schema.org\",\\n        \"@type\": \"NewsArticle\",\\n        \"mainEntityOfPage\": \"https://www.foxnews.com/politics/trump-to-visit-tennessee-tornadoes\",\\n        \"headline\": \"Trump tours Tennessee destruction after deadly tornadoes\",\\n        \"datePublished\": \"2020-03-06T08:34:55-05:00\",\\n        \"dateModified\": \"2020-03-06T12:46:17-05:00\",\\n        \"description\": \"President Trump on Friday will visit parts of Tennessee that were hit by tornadoes earlier this week, leaving dozens dead and many more injured.\",\\n        \"author\": {\\n          \"@type\": \"Person\",\\n          \"name\": \"Adam Shaw\"\\n        },\\n        \"publisher\": {\\n          \"@type\": \"Organization\",\\n          \"name\": \"Fox News\",\\n          \"logo\": {\\n            \"@type\": \"ImageObject\",\\n            \"url\": \"https://static.foxnews.com/static/orion/styles/img/fox-news/amp/fox-news-logo.png\",\\n            \"width\": 133,\\n            \"height\": 60\\n          }\\n        },\\n        \"image\": {\\n          \"@type\": \"ImageObject\",\\n          \"url\": \"https://a57.foxnews.com/static.foxnews.com/foxnews.com/content/uploads/2020/03/696/392/AP20066618572494.jpg?ve=1&tl=1\",\\n          \"width\": 696,\\n          \"height\": 392\\n        }\\n      }\\n    ', '\\n      {\\n        \"@context\": \"http://schema.org\",\\n        \"@type\": \"NewsArticle\",\\n        \"mainEntityOfPage\": \"https://www.foxnews.com/politics/trump-cancels-trip-to-cdc-amid-coronavirus-outbreak\",\\n        \"headline\": \"Trump signs $8.3B coronavirus spending bill: \\'It’s an unforeseen problem\\'\",\\n        \"datePublished\": \"2020-03-06T08:09:29-05:00\",\\n        \"dateModified\": \"2020-03-06T09:58:26-05:00\",\\n        \"description\": \"The legislation represents the culmination of a widely-bipartisan effort at a time when Washington, D.C. is bitterly polarized.\",\\n        \"author\": {\\n          \"@type\": \"Person\",\\n          \"name\": \"Tyler Olson\"\\n        },\\n        \"publisher\": {\\n          \"@type\": \"Organization\",\\n          \"name\": \"Fox News\",\\n          \"logo\": {\\n            \"@type\": \"ImageObject\",\\n            \"url\": \"https://static.foxnews.com/static/orion/styles/img/fox-news/amp/fox-news-logo.png\",\\n            \"width\": 133,\\n            \"height\": 60\\n          }\\n        },\\n        \"image\": {\\n          \"@type\": \"ImageObject\",\\n          \"url\": \"https://a57.foxnews.com/cf-images.us-east-1.prod.boltdns.net/v1/static/694940094001/e2e35633-7dc7-4d65-9ec6-8cdfe06547c3/973d3284-2ba2-48ff-935a-10ad7baf52b1/1280x720/match/696/392/image.jpg?ve=1&tl=1\",\\n          \"width\": 696,\\n          \"height\": 392\\n        }\\n      }\\n    ', '\\n      {\\n        \"@context\": \"http://schema.org\",\\n        \"@type\": \"NewsArticle\",\\n        \"mainEntityOfPage\": \"https://www.foxnews.com/politics/ocasio-cortez-illegal-immigrants-2020-census\",\\n        \"headline\": \"Alexandria Ocasio-Cortez calls on illegal immigrants to fill out 2020 census\",\\n        \"datePublished\": \"2020-03-07T09:12:29-05:00\",\\n        \"dateModified\": \"2020-03-07T09:33:30-05:00\",\\n        \"description\": \"Rep. Alexandria Ocasio-Cortez, D-N.Y., came under fire this week after urging illegal immigrants to participate in the upcoming census -- with opponents saying her language was “anti-American,”\",\\n        \"author\": {\\n          \"@type\": \"Person\",\\n          \"name\": \"Adam Shaw\"\\n        },\\n        \"publisher\": {\\n          \"@type\": \"Organization\",\\n          \"name\": \"Fox News\",\\n          \"logo\": {\\n            \"@type\": \"ImageObject\",\\n            \"url\": \"https://static.foxnews.com/static/orion/styles/img/fox-news/amp/fox-news-logo.png\",\\n            \"width\": 133,\\n            \"height\": 60\\n          }\\n        },\\n        \"image\": {\\n          \"@type\": \"ImageObject\",\\n          \"url\": \"https://a57.foxnews.com/cf-images.us-east-1.prod.boltdns.net/v1/static/694940094001/5056c2d2-8523-491e-a69e-83d454349f2f/d6351842-be21-4b1e-a386-5188970121ae/1280x720/match/696/392/image.jpg?ve=1&tl=1\",\\n          \"width\": 696,\\n          \"height\": 392\\n        }\\n      }\\n    ', '\\n      {\\n        \"@context\": \"http://schema.org\",\\n        \"@type\": \"NewsArticle\",\\n        \"mainEntityOfPage\": \"https://www.foxnews.com/politics/fox-news-voter-analysis-biden-sanders-emerge-from-dem-pack-on-super-tuesday\",\\n        \"headline\": \"Fox News Voter Analysis: Biden, Sanders emerge from Dem pack on Super Tuesday\",\\n        \"datePublished\": \"2020-03-04T01:22:56-05:00\",\\n        \"dateModified\": \"2020-03-04T01:51:38-05:00\",\\n        \"description\": \"The Democratic Primary took a dramatic turn Tuesday, with Joe Biden winning at least eight states to continue his comeback story. At the same time, Bernie Sanders took home at least four states, including a win in delegate-rich California to set up a showdown between the two in the primaries ahead. Maine and the key state of Texas remained extraordinarily close.\",\\n        \"author\": {\\n          \"@type\": \"Person\",\\n          \"name\": \"Andrew Schwartz\"\\n        },\\n        \"publisher\": {\\n          \"@type\": \"Organization\",\\n          \"name\": \"Fox News\",\\n          \"logo\": {\\n            \"@type\": \"ImageObject\",\\n            \"url\": \"https://static.foxnews.com/static/orion/styles/img/fox-news/amp/fox-news-logo.png\",\\n            \"width\": 133,\\n            \"height\": 60\\n          }\\n        },\\n        \"image\": {\\n          \"@type\": \"ImageObject\",\\n          \"url\": \"https://a57.foxnews.com/cf-images.us-east-1.prod.boltdns.net/v1/static/694940094001/a36d8546-b4f5-4f9b-ac25-56ebc689f00d/8b100ee3-e6df-4237-aea1-49e89e2e956e/1280x720/match/696/392/image.jpg?ve=1&tl=1\",\\n          \"width\": 696,\\n          \"height\": 392\\n        }\\n      }\\n    ', '\\n      {\\n        \"@context\": \"http://schema.org\",\\n        \"@type\": \"NewsArticle\",\\n        \"mainEntityOfPage\": \"https://www.foxnews.com/politics/fox-news-poll-trump-economy-failed-to-unify\",\\n        \"headline\": \"Fox News Poll: Voters say Trump succeeded on economy, but failed to unify US\",\\n        \"datePublished\": \"2020-02-28T17:22:45-05:00\",\\n        \"dateModified\": \"2020-02-28T18:06:42-05:00\",\\n        \"description\": \"By a 20-point margin, voters say the Trump administration has mostly succeeded at stimulating the economy.\",\\n        \"author\": {\\n          \"@type\": \"Person\",\\n          \"name\": \"Dana Blanton\"\\n        },\\n        \"publisher\": {\\n          \"@type\": \"Organization\",\\n          \"name\": \"Fox News\",\\n          \"logo\": {\\n            \"@type\": \"ImageObject\",\\n            \"url\": \"https://static.foxnews.com/static/orion/styles/img/fox-news/amp/fox-news-logo.png\",\\n            \"width\": 133,\\n            \"height\": 60\\n          }\\n        },\\n        \"image\": {\\n          \"@type\": \"ImageObject\",\\n          \"url\": \"https://a57.foxnews.com/static.foxnews.com/foxnews.com/content/uploads/2020/02/696/392/2370eca5-Donald-Trump.jpg?ve=1&tl=1\",\\n          \"width\": 696,\\n          \"height\": 392\\n        }\\n      }\\n    ', '\\n      {\\n        \"@context\": \"http://schema.org\",\\n        \"@type\": \"NewsArticle\",\\n        \"mainEntityOfPage\": \"https://www.foxnews.com/politics/fox-news-poll-capitalism-socialism-bernie-sanders\",\\n        \"headline\": \"Fox News Poll: Three in 10 voters view socialism positively\",\\n        \"datePublished\": \"2020-02-28T17:07:23-05:00\",\\n        \"dateModified\": \"2020-02-28T18:06:04-05:00\",\\n        \"description\": \"Capitalism beats socialism by a two-to-one margin in the latest Fox News Poll.\",\\n        \"author\": {\\n          \"@type\": \"Person\",\\n          \"name\": \"Dana Blanton\"\\n        },\\n        \"publisher\": {\\n          \"@type\": \"Organization\",\\n          \"name\": \"Fox News\",\\n          \"logo\": {\\n            \"@type\": \"ImageObject\",\\n            \"url\": \"https://static.foxnews.com/static/orion/styles/img/fox-news/amp/fox-news-logo.png\",\\n            \"width\": 133,\\n            \"height\": 60\\n          }\\n        },\\n        \"image\": {\\n          \"@type\": \"ImageObject\",\\n          \"url\": \"https://a57.foxnews.com/static.foxnews.com/foxnews.com/content/uploads/2020/02/696/392/b99258a2-image.jpg?ve=1&tl=1\",\\n          \"width\": 696,\\n          \"height\": 392\\n        }\\n      }\\n    ', '\\n      {\\n        \"@context\": \"http://schema.org\",\\n        \"@type\": \"NewsArticle\",\\n        \"mainEntityOfPage\": \"https://www.foxnews.com/politics/fox-news-poll-sanders-knocks-biden-out-of-first-majority-thinks-trump-wins\",\\n        \"headline\": \"Fox News Poll: Sanders knocks Biden out of first, majority thinks Trump wins\",\\n        \"datePublished\": \"2020-02-27T16:10:16-05:00\",\\n        \"dateModified\": \"2020-02-27T18:07:28-05:00\",\\n        \"description\": \"Bernie Sanders pushes Joe Biden out of the frontrunner spot for the Democratic nomination, capturing a record 31 percent support among primary voters in a new Fox News Poll.\",\\n        \"author\": {\\n          \"@type\": \"Person\",\\n          \"name\": \"Dana Blanton\"\\n        },\\n        \"publisher\": {\\n          \"@type\": \"Organization\",\\n          \"name\": \"Fox News\",\\n          \"logo\": {\\n            \"@type\": \"ImageObject\",\\n            \"url\": \"https://static.foxnews.com/static/orion/styles/img/fox-news/amp/fox-news-logo.png\",\\n            \"width\": 133,\\n            \"height\": 60\\n          }\\n        },\\n        \"image\": {\\n          \"@type\": \"ImageObject\",\\n          \"url\": \"https://a57.foxnews.com/static.foxnews.com/foxnews.com/content/uploads/2020/02/696/392/10ee2e1a-Bernie-Sanders-Dem-Debate-AP.jpg?ve=1&tl=1\",\\n          \"width\": 696,\\n          \"height\": 392\\n        }\\n      }\\n    ', '\\n      {\\n        \"@context\": \"http://schema.org\",\\n        \"@type\": \"NewsArticle\",\\n        \"mainEntityOfPage\": \"https://www.foxnews.com/politics/house-prepares-telework-scenarios-amid-coronavirus-threat\",\\n        \"headline\": \"House prepares for telework scenarios amid coronavirus threat\",\\n        \"datePublished\": \"2020-03-06T21:10:54-05:00\",\\n        \"dateModified\": \"2020-03-07T05:41:52-05:00\",\\n        \"description\": \"Fox News has obtained a memo sent to all House offices by the House Administration Committee this evening about Congressional operations and the coronavirus threat.\\xa0\",\\n        \"author\": {\\n          \"@type\": \"Person\",\\n          \"name\": \"Chad Pergram\"\\n        },\\n        \"publisher\": {\\n          \"@type\": \"Organization\",\\n          \"name\": \"Fox News\",\\n          \"logo\": {\\n            \"@type\": \"ImageObject\",\\n            \"url\": \"https://static.foxnews.com/static/orion/styles/img/fox-news/amp/fox-news-logo.png\",\\n            \"width\": 133,\\n            \"height\": 60\\n          }\\n        },\\n        \"image\": {\\n          \"@type\": \"ImageObject\",\\n          \"url\": \"https://a57.foxnews.com/static.foxnews.com/foxnews.com/content/uploads/2020/03/696/392/c1aa91df-Capture.jpg?ve=1&tl=1\",\\n          \"width\": 696,\\n          \"height\": 392\\n        }\\n      }\\n    ', '\\n      {\\n        \"@context\": \"http://schema.org\",\\n        \"@type\": \"NewsArticle\",\\n        \"mainEntityOfPage\": \"https://www.foxnews.com/politics/tulsi-gabbard-calls-on-biden-sanders-to-demand-dnc-allow-her-on-arizona-debate-stage\",\\n        \"headline\": \"Tulsi Gabbard calls on Biden, Sanders to demand DNC allow her on Arizona debate stage\",\\n        \"datePublished\": \"2020-03-06T23:33:15-05:00\",\\n        \"dateModified\": \"2020-03-07T04:15:42-05:00\",\\n        \"description\": \"The only woman remaining in the 2020 race for the White House is calling on her party\\'s top two competitors to help pressure the Democratic National Committee (DNC)\\xa0to allow her to participate in an upcoming presidential debate in Phoenix.\",\\n        \"author\": {\\n          \"@type\": \"Person\",\\n          \"name\": \"Joseph Wulfsohn\"\\n        },\\n        \"publisher\": {\\n          \"@type\": \"Organization\",\\n          \"name\": \"Fox News\",\\n          \"logo\": {\\n            \"@type\": \"ImageObject\",\\n            \"url\": \"https://static.foxnews.com/static/orion/styles/img/fox-news/amp/fox-news-logo.png\",\\n            \"width\": 133,\\n            \"height\": 60\\n          }\\n        },\\n        \"image\": {\\n          \"@type\": \"ImageObject\",\\n          \"url\": \"https://a57.foxnews.com/cf-images.us-east-1.prod.boltdns.net/v1/static/694940094001/ec64ffd0-f58d-4f3b-a1c8-fc1faab1a280/e8e4af83-7649-4f00-9406-5f18704967a6/1280x720/match/696/392/image.jpg?ve=1&tl=1\",\\n          \"width\": 696,\\n          \"height\": 392\\n        }\\n      }\\n    ', '\\n      {\\n        \"@context\": \"http://schema.org\",\\n        \"@type\": \"NewsArticle\",\\n        \"mainEntityOfPage\": \"https://www.foxnews.com/politics/trump-mark-meadows-white-house-chief-of-staff-mick-mulvaney\",\\n        \"headline\": \"Trump announces Mark Meadows to replace Mick Mulvaney as White House chief of staff\",\\n        \"datePublished\": \"2020-03-06T20:28:01-05:00\",\\n        \"dateModified\": \"2020-03-07T08:29:29-05:00\",\\n        \"description\": \"President Trump made a surprise announcement on Friday night that Rep. Mark Meadows, R-N.C., would become his new White House Chief of Staff, replacing acting Chief of Staff Mick Mulvaney.\\xa0\",\\n        \"author\": {\\n          \"@type\": \"Person\",\\n          \"name\": \"Joseph Wulfsohn\"\\n        },\\n        \"publisher\": {\\n          \"@type\": \"Organization\",\\n          \"name\": \"Fox News\",\\n          \"logo\": {\\n            \"@type\": \"ImageObject\",\\n            \"url\": \"https://static.foxnews.com/static/orion/styles/img/fox-news/amp/fox-news-logo.png\",\\n            \"width\": 133,\\n            \"height\": 60\\n          }\\n        },\\n        \"image\": {\\n          \"@type\": \"ImageObject\",\\n          \"url\": \"https://a57.foxnews.com/static.foxnews.com/foxnews.com/content/uploads/2019/03/696/392/f0d15faf-AP19073620492262.jpg?ve=1&tl=1\",\\n          \"width\": 696,\\n          \"height\": 392\\n        }\\n      }\\n    ', '\\n      {\\n        \"@context\": \"http://schema.org\",\\n        \"@type\": \"NewsArticle\",\\n        \"mainEntityOfPage\": \"https://www.foxnews.com/politics/trump-to-award-golfers-annika-sorenstam-gary-j-player-the-presidential-medal-of-freedom\",\\n        \"headline\": \"Trump to award golfers Annika Sorenstam, Gary J. Player the Presidential Medal of Freedom\",\\n        \"datePublished\": \"2020-03-06T21:05:46-05:00\",\\n        \"dateModified\": \"2020-03-06T22:26:22-05:00\",\\n        \"description\": \"President Trump will award the Medal of Freedom to golfers\\xa0Gary J. Player and Annike Sorenstam later this month, the White House said Friday.\\xa0\",\\n        \"author\": {\\n          \"@type\": \"Person\",\\n          \"name\": \"Louis Casiano\"\\n        },\\n        \"publisher\": {\\n          \"@type\": \"Organization\",\\n          \"name\": \"Fox News\",\\n          \"logo\": {\\n            \"@type\": \"ImageObject\",\\n            \"url\": \"https://static.foxnews.com/static/orion/styles/img/fox-news/amp/fox-news-logo.png\",\\n            \"width\": 133,\\n            \"height\": 60\\n          }\\n        },\\n        \"image\": {\\n          \"@type\": \"ImageObject\",\\n          \"url\": \"https://a57.foxnews.com/static.foxnews.com/foxnews.com/content/uploads/2020/03/696/392/MOF.jpg?ve=1&tl=1\",\\n          \"width\": 696,\\n          \"height\": 392\\n        }\\n      }\\n    ', '\\n      {\\n        \"@context\": \"http://schema.org\",\\n        \"@type\": \"NewsArticle\",\\n        \"mainEntityOfPage\": \"https://www.foxnews.com/media/gender-questions-swirl-as-warren-leaves-race-to-two-old-men\",\\n        \"headline\": \"Gender questions swirl as Warren leaves race to two old men\",\\n        \"datePublished\": \"2020-03-05T15:01:53-05:00\",\\n        \"dateModified\": \"2020-03-06T03:00:11-05:00\",\\n        \"description\": \"Now that Elizabeth Warren has bowed to the inevitable, the Biden-Bernie matchup is either a battle for the soul of the Democratic Party…or the typical dust-settling of a conventional race.\",\\n        \"author\": {\\n          \"@type\": \"Person\",\\n          \"name\": \"Howard Kurtz\"\\n        },\\n        \"publisher\": {\\n          \"@type\": \"Organization\",\\n          \"name\": \"Fox News\",\\n          \"logo\": {\\n            \"@type\": \"ImageObject\",\\n            \"url\": \"https://static.foxnews.com/static/orion/styles/img/fox-news/amp/fox-news-logo.png\",\\n            \"width\": 133,\\n            \"height\": 60\\n          }\\n        },\\n        \"image\": {\\n          \"@type\": \"ImageObject\",\\n          \"url\": \"https://a57.foxnews.com/cf-images.us-east-1.prod.boltdns.net/v1/static/694940094001/921ee92b-1cd9-4c26-b2d7-8e174ecb19a9/181dcd7d-cefb-4b58-b957-7064de70598d/1280x720/match/696/392/image.jpg?ve=1&tl=1\",\\n          \"width\": 696,\\n          \"height\": 392\\n        }\\n      }\\n    ', '\\n      {\\n        \"@context\": \"http://schema.org\",\\n        \"@type\": \"NewsArticle\",\\n        \"mainEntityOfPage\": \"https://www.foxnews.com/media/bloomberg-investment-bombs-as-press-belatedly-boosts-biden\",\\n        \"headline\": \"Bloomberg investment bombs as press belatedly boosts Biden\",\\n        \"datePublished\": \"2020-03-04T14:49:33-05:00\",\\n        \"dateModified\": \"2020-03-05T07:41:41-05:00\",\\n        \"description\": \"Mike Bloomberg didn’t need one of his fancy Wall Street terminals to interpret the data that he got shellacked on Super Tuesday.\",\\n        \"author\": {\\n          \"@type\": \"Person\",\\n          \"name\": \"Howard Kurtz\"\\n        },\\n        \"publisher\": {\\n          \"@type\": \"Organization\",\\n          \"name\": \"Fox News\",\\n          \"logo\": {\\n            \"@type\": \"ImageObject\",\\n            \"url\": \"https://static.foxnews.com/static/orion/styles/img/fox-news/amp/fox-news-logo.png\",\\n            \"width\": 133,\\n            \"height\": 60\\n          }\\n        },\\n        \"image\": {\\n          \"@type\": \"ImageObject\",\\n          \"url\": \"https://a57.foxnews.com/cf-images.us-east-1.prod.boltdns.net/v1/static/694940094001/9e4a8b9f-b4ef-4f48-941e-ae97fc8343ef/9fe415db-946f-4604-9f51-2f168ac9457b/1280x720/match/696/392/image.jpg?ve=1&tl=1\",\\n          \"width\": 696,\\n          \"height\": 392\\n        }\\n      }\\n    ']\n"
     ]
    }
   ],
   "source": [
    "# prep for article content\n",
    "for link in fox_links:\n",
    "    fox_article_request = requests.get(link)\n",
    "    fox_article = fox_article_request.content\n",
    "    fox_article_soup = BeautifulSoup(fox_article, 'html.parser')\n",
    "    \n",
    "    # get article title\n",
    "    title = fox_article_soup.find_all('script')[2].get_text()\n",
    "    fox_article_soup.find_all(\"script\")[2].get_text()\n",
    "    fox_titles.append(title)\n",
    "    \n",
    "    # get article data\n",
    "    \n",
    "    # get article contents\n",
    "    \n",
    "print(fox_titles)"
   ]
  },
  {
   "cell_type": "markdown",
   "metadata": {},
   "source": [
    "Get article text and other relevent data from new articles"
   ]
  },
  {
   "cell_type": "code",
   "execution_count": 18,
   "metadata": {},
   "outputs": [],
   "source": [
    "text = []\n",
    "headline = []\n",
    "date_published = []\n",
    "date_modified = []\n",
    "description = []\n",
    "author = []\n",
    "url = []\n",
    "\n",
    "for link in hp_links2:\n",
    "    # load the HTML content using requests and save into a variable\n",
    "    r2_article = requests.get(link)\n",
    "    article2 = r2_article.content\n",
    "\n",
    "    # prep article content\n",
    "    \n",
    "    \n",
    "    # create a soups to allow BeautifulSoup to work\n",
    "    article_soup2 = BeautifulSoup(article2, 'html.parser')\n",
    "\n",
    "    # get article text\n",
    "    article_text = article_soup2.find(\"body\").get_text()\n",
    "    text.append(text)\n",
    "    \n",
    "    # retrieve article specific metadata\n",
    "    metadata2 = article_soup2.find_all(\"script\")[2].get_text()\n",
    "    metadata2 = metadata2.split(\",\")\n",
    "\n",
    "    for item in metadata2:\n",
    "        if 'headline' in item:\n",
    "            headline.append(item)\n",
    "        elif 'datePublished' in item:\n",
    "            date_published.append(item)\n",
    "        elif 'dateModified' in item:\n",
    "            date_modified.append(item)\n",
    "        elif 'description' in item:\n",
    "            description.append(item)\n",
    "        elif 'name' in item and 'Fox News' not in item:\n",
    "            author.append(item)\n",
    "        elif 'mainEntityOfPage' in item:\n",
    "            url.append(item)"
   ]
  },
  {
   "cell_type": "code",
   "execution_count": 1,
   "metadata": {},
   "outputs": [],
   "source": [
    "#article_data2 = pd.DataFrame({'text':text,'title':headline, 'date_published':date_published, 'date_modified':date_modified, 'description':description, 'author':author, 'url':url})"
   ]
  },
  {
   "cell_type": "code",
   "execution_count": null,
   "metadata": {},
   "outputs": [],
   "source": [
    "# read in old data\n",
    "old_breitbart_data = pd.read_csv('data/breitbart_data.csv')\n",
    "\n",
    "# append new data\n",
    "breitbart_data = old_breitbart_data.append(breitbart_data).drop_duplicates()\n",
    "\n",
    "# save new .csv\n",
    "breitbart_data.to_csv(\"data/breitbart_data.csv\", index = False)"
   ]
  },
  {
   "cell_type": "code",
   "execution_count": null,
   "metadata": {},
   "outputs": [],
   "source": [
    "# import collection of all responses\n",
    "all_articles2 = pd.read_csv(\"Fox_Data.csv\", index_col=[0])\n",
    "\n",
    "# merge new increment of data to the csv\n",
    "all_articles2 = article_data2.append(article_data2, ignore_index=True)\n",
    "\n",
    "#export with new increment to save\n",
    "all_articles.to_csv('Fox_Data.csv')"
   ]
  },
  {
   "cell_type": "markdown",
   "metadata": {},
   "source": [
    "### 3. Wall Street Journal - Neutral"
   ]
  },
  {
   "cell_type": "code",
   "execution_count": null,
   "metadata": {},
   "outputs": [],
   "source": []
  }
 ],
 "metadata": {
  "kernelspec": {
   "display_name": "Python 3",
   "language": "python",
   "name": "python3"
  },
  "language_info": {
   "codemirror_mode": {
    "name": "ipython",
    "version": 3
   },
   "file_extension": ".py",
   "mimetype": "text/x-python",
   "name": "python",
   "nbconvert_exporter": "python",
   "pygments_lexer": "ipython3",
   "version": "3.7.4"
  }
 },
 "nbformat": 4,
 "nbformat_minor": 2
}
