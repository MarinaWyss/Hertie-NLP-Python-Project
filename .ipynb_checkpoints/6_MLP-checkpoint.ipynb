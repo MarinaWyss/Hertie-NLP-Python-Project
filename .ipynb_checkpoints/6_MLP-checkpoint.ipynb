{
 "cells": [
  {
   "cell_type": "code",
   "execution_count": 7,
   "metadata": {},
   "outputs": [],
   "source": [
    "import numpy as np\n",
    "import pandas as pd\n",
    "\n",
    "import torch\n",
    "import torch.nn as nn\n",
    "\n",
    "import matplotlib.pyplot as plt\n",
    "from sklearn.metrics import classification_report"
   ]
  },
  {
   "cell_type": "markdown",
   "metadata": {},
   "source": [
    "(This script uses a tiny test dataset but is scaled up on the full set for our actual project) "
   ]
  },
  {
   "cell_type": "code",
   "execution_count": 8,
   "metadata": {},
   "outputs": [],
   "source": [
    "# load data\n",
    "x_train = torch.load(\"data/test_embeddings/x_train\")\n",
    "x_val = torch.load(\"data/test_embeddings/x_val\")\n",
    "x_test = torch.load(\"data/test_embeddings/x_test\")\n",
    "y_train = torch.load(\"data/test_embeddings/y_train\")\n",
    "y_val = torch.load(\"data/test_embeddings/y_val\")\n",
    "y_test = torch.load(\"data/test_embeddings/y_test\")"
   ]
  },
  {
   "cell_type": "code",
   "execution_count": 10,
   "metadata": {},
   "outputs": [],
   "source": [
    "class Feedforward(torch.nn.Module):\n",
    "    \"\"\"\n",
    "    Basic feedforward MLP for binary classification of BERT-embedding sentences\n",
    "    \"\"\"\n",
    "    def __init__(self, input_size, hidden_size):\n",
    "        super(Feedforward, self).__init__()\n",
    "        self.input_size = input_size\n",
    "        self.hidden_size  = hidden_size\n",
    "        self.fc1 = nn.Linear(self.input_size, self.hidden_size)\n",
    "        self.relu = nn.ReLU()\n",
    "        self.fc2 = nn.Linear(self.hidden_size, 1)\n",
    "        self.sigmoid = nn.Sigmoid()\n",
    "      \n",
    "    def forward(self, x):\n",
    "        hidden = self.fc1(x)\n",
    "        relu = self.relu(hidden)\n",
    "        output = self.fc2(relu)\n",
    "        output = self.sigmoid(output)\n",
    "        return output"
   ]
  },
  {
   "cell_type": "code",
   "execution_count": 17,
   "metadata": {},
   "outputs": [],
   "source": [
    "model = Feedforward(768, 10)\n",
    "criterion = torch.nn.BCELoss()\n",
    "optimizer = torch.optim.Adam(model.parameters(), lr = 0.0001) \n",
    "n_epochs = 10"
   ]
  },
  {
   "cell_type": "code",
   "execution_count": 18,
   "metadata": {},
   "outputs": [
    {
     "name": "stdout",
     "output_type": "stream",
     "text": [
      "Epoch 1 Train loss: 0.72. Validation loss: 0.72\n",
      "Epoch 2 Train loss: 0.71. Validation loss: 0.72\n",
      "Epoch 3 Train loss: 0.71. Validation loss: 0.72\n",
      "Epoch 4 Train loss: 0.71. Validation loss: 0.71\n",
      "Epoch 5 Train loss: 0.71. Validation loss: 0.71\n",
      "Epoch 6 Train loss: 0.71. Validation loss: 0.71\n",
      "Epoch 7 Train loss: 0.71. Validation loss: 0.71\n",
      "Epoch 8 Train loss: 0.70. Validation loss: 0.71\n",
      "Epoch 9 Train loss: 0.70. Validation loss: 0.71\n",
      "Epoch 10 Train loss: 0.70. Validation loss: 0.70\n"
     ]
    }
   ],
   "source": [
    "train_losses = []\n",
    "val_losses = []\n",
    "\n",
    "for epoch in range(n_epochs):\n",
    "    model.train()\n",
    "    train_loss = 0\n",
    "    y_pred = model(x_train[:, 0, :])\n",
    "    optimizer.zero_grad()\n",
    "    loss = criterion(y_pred.squeeze(), y_train.squeeze())\n",
    "    loss.backward()\n",
    "    optimizer.step()\n",
    "    train_loss += loss.item()\n",
    "    train_losses.append(train_loss)\n",
    "\n",
    "    model.eval() \n",
    "    val_loss = 0\n",
    "    y_pred_val = model(x_val[:, 0, :])\n",
    "    loss = criterion(y_pred_val.squeeze(), y_val.squeeze())\n",
    "    val_loss += loss.item()\n",
    "    val_losses.append(val_loss)\n",
    "    print(\"Epoch %d Train loss: %.2f. Validation loss: %.2f\"\n",
    "        % (epoch + 1, train_losses[-1], val_losses[-1]))"
   ]
  },
  {
   "cell_type": "code",
   "execution_count": 19,
   "metadata": {},
   "outputs": [
    {
     "data": {
      "text/plain": [
       "Text(0.5, 1.0, 'Losses')"
      ]
     },
     "execution_count": 19,
     "metadata": {},
     "output_type": "execute_result"
    },
    {
     "data": {
      "image/png": "[encoded data removed]",
      "text/plain": [
       "<Figure size 432x288 with 1 Axes>"
      ]
     },
     "metadata": {},
     "output_type": "display_data"
    }
   ],
   "source": [
    "# plot losses\n",
    "plt.plot(train_losses, label=\"Training loss\")\n",
    "plt.plot(val_losses, label=\"Validation loss\")\n",
    "plt.legend()\n",
    "plt.title(\"Losses\")"
   ]
  },
  {
   "cell_type": "code",
   "execution_count": 20,
   "metadata": {},
   "outputs": [
    {
     "name": "stdout",
     "output_type": "stream",
     "text": [
      "             precision    recall  f1-score   support\n",
      "\n",
      "        0.0       0.00      0.00      0.00         0\n",
      "        1.0       1.00      0.50      0.67        10\n",
      "\n",
      "avg / total       1.00      0.50      0.67        10\n",
      "\n"
     ]
    },
    {
     "name": "stderr",
     "output_type": "stream",
     "text": [
      "/anaconda3/lib/python3.6/site-packages/sklearn/metrics/classification.py:1137: UndefinedMetricWarning: Recall and F-score are ill-defined and being set to 0.0 in labels with no true samples.\n",
      "  'recall', 'true', average, warn_for)\n"
     ]
    }
   ],
   "source": [
    "# evaluate predictions\n",
    "test_pred = model(x_test[:, 0, :])\n",
    "test_binary = np.where(test_pred > 0.5, 1, 0)\n",
    "print(classification_report(test_binary, y_test.round()))"
   ]
  }
 ],
 "metadata": {
  "kernelspec": {
   "display_name": "Python 3",
   "language": "python",
   "name": "python3"
  },
  "language_info": {
   "codemirror_mode": {
    "name": "ipython",
    "version": 3
   },
   "file_extension": ".py",
   "mimetype": "text/x-python",
   "name": "python",
   "nbconvert_exporter": "python",
   "pygments_lexer": "ipython3",
   "version": "3.7.4"
  }
 },
 "nbformat": 4,
 "nbformat_minor": 2
}
