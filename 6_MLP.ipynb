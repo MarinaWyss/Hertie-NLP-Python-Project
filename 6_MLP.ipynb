{
 "cells": [
  {
   "cell_type": "code",
   "execution_count": null,
   "metadata": {},
   "outputs": [],
   "source": [
    "import numpy as np\n",
    "import pandas as pd\n",
    "\n",
    "import torch\n",
    "import torch.nn as nn\n",
    "\n",
    "import matplotlib.pyplot as plt\n",
    "from sklearn.metrics import classification_report"
   ]
  },
  {
   "cell_type": "code",
   "execution_count": null,
   "metadata": {},
   "outputs": [],
   "source": [
    "# load data\n",
    "x_train = torch.load(\"x_train\")\n",
    "x_val = torch.load(\"x_val\")\n",
    "x_test = torch.load(\"x_test\")\n",
    "y_train = torch.load(\"y_train\")\n",
    "y_val = torch.load(\"y_val\")\n",
    "y_test = torch.load(\"y_test\")"
   ]
  },
  {
   "cell_type": "code",
   "execution_count": null,
   "metadata": {},
   "outputs": [],
   "source": [
    "class Feedforward(torch.nn.Module):\n",
    "    \"\"\"\n",
    "    Basic feedforward MLP for binary classification of BERT-embedding sentences\n",
    "    \"\"\"\n",
    "    def __init__(self, input_size, hidden_size):\n",
    "        super(Feedforward, self).__init__()\n",
    "        self.input_size = input_size\n",
    "        self.hidden_size  = hidden_size\n",
    "        self.fc1 = nn.Linear(self.input_size, self.hidden_size)\n",
    "        self.relu = nn.ReLU()\n",
    "        self.fc2 = nn.Linear(self.hidden_size, 1)\n",
    "        self.sigmoid = nn.Sigmoid()\n",
    "      \n",
    "    def forward(self, x):\n",
    "        hidden = self.fc1(x)\n",
    "        relu = self.relu(hidden)\n",
    "        output = self.fc2(relu)\n",
    "        output = self.sigmoid(output)\n",
    "        return output"
   ]
  },
  {
   "cell_type": "code",
   "execution_count": null,
   "metadata": {},
   "outputs": [],
   "source": [
    "model = Feedforward(768, 10)\n",
    "criterion = torch.nn.BCELoss()\n",
    "optimizer = torch.optim.Adam(model.parameters(), lr = 0.01) \n",
    "n_epochs = 10"
   ]
  },
  {
   "cell_type": "code",
   "execution_count": null,
   "metadata": {},
   "outputs": [],
   "source": [
    "train_losses = []\n",
    "\n",
    "model.train()\n",
    "\n",
    "for epoch in range(n_epochs):\n",
    "    train_loss = 0\n",
    "    y_pred = model(x_train[:, 0, :])\n",
    "    optimizer.zero_grad()\n",
    "    loss = criterion(y_pred.squeeze(), y_train.squeeze())\n",
    "    loss.backward()\n",
    "    optimizer.step()\n",
    "    print('Epoch {}: train loss: {}'.format(epoch, loss.item()))\n",
    "    train_loss += loss.item()\n",
    "    train_losses.append(train_loss)"
   ]
  },
  {
   "cell_type": "code",
   "execution_count": null,
   "metadata": {},
   "outputs": [],
   "source": [
    "val_losses = []\n",
    "\n",
    "model.eval() \n",
    "\n",
    "for epoch in range(n_epochs):\n",
    "    val_loss = 0\n",
    "    y_pred = model(x_val[:, 0, :])\n",
    "    optimizer.zero_grad()\n",
    "    loss = criterion(y_pred.squeeze(), y_val.squeeze())\n",
    "    loss.backward()\n",
    "    optimizer.step()\n",
    "    # print('Epoch {}: val loss: {}'.format(epoch, loss.item()))\n",
    "    val_loss += loss.item()\n",
    "    val_losses.append(val_loss)"
   ]
  },
  {
   "cell_type": "code",
   "execution_count": null,
   "metadata": {},
   "outputs": [],
   "source": [
    "# plot losses\n",
    "plt.plot(train_losses, label=\"Training loss\")\n",
    "plt.plot(val_losses, label=\"Validation loss\")\n",
    "plt.legend()\n",
    "plt.title(\"Losses\")"
   ]
  },
  {
   "cell_type": "code",
   "execution_count": null,
   "metadata": {},
   "outputs": [],
   "source": [
    "# evaluate predictions\n",
    "test_pred = model(x_test[:, 0, :])\n",
    "test_binary = np.where(test_pred > 0.5, 1, 0)\n",
    "print(classification_report(test_binary, y_test.round()))"
   ]
  }
 ],
 "metadata": {
  "kernelspec": {
   "display_name": "Python 3",
   "language": "python",
   "name": "python3"
  },
  "language_info": {
   "codemirror_mode": {
    "name": "ipython",
    "version": 3
   },
   "file_extension": ".py",
   "mimetype": "text/x-python",
   "name": "python",
   "nbconvert_exporter": "python",
   "pygments_lexer": "ipython3",
   "version": "3.6.4"
  }
 },
 "nbformat": 4,
 "nbformat_minor": 2
}
