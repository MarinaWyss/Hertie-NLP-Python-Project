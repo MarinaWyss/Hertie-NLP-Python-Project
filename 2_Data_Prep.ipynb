{
 "cells": [
  {
   "cell_type": "code",
   "execution_count": 184,
   "metadata": {},
   "outputs": [],
   "source": [
    "import pandas as pd\n",
    "import numpy as np\n",
    "from datetime import datetime\n",
    "from dateutil.parser import parse"
   ]
  },
  {
   "cell_type": "code",
   "execution_count": 196,
   "metadata": {},
   "outputs": [],
   "source": [
    "# load all data sets\n",
    "breitbart = pd.read_csv('data/breitbart_data.csv')\n",
    "fox = pd.read_csv('data/fox_data.csv')\n",
    "wt = pd.read_csv('data/wt_data.csv')\n",
    "ap = pd.read_csv('data/ap_data.csv')\n",
    "nbc = pd.read_csv('data/nbc_data.csv')\n",
    "nyt = pd.read_csv('data/nyt_data.csv')\n",
    "politico = pd.read_csv('data/politico_data.csv')\n",
    "buzzfeed = pd.read_csv('data/buzzfeed_data.csv')"
   ]
  },
  {
   "cell_type": "markdown",
   "metadata": {},
   "source": [
    "#### Make dates comparable"
   ]
  },
  {
   "cell_type": "code",
   "execution_count": 197,
   "metadata": {},
   "outputs": [],
   "source": [
    "fox['date'] = [x.split('T')[0] for x in fox['date']]"
   ]
  },
  {
   "cell_type": "code",
   "execution_count": 198,
   "metadata": {},
   "outputs": [],
   "source": [
    "wt['date'] = [x.replace(' -\\n\\t\\t\\t\\n\\t\\t\\t\\tAssociated Press\\n -    Updated: 6:23 a.m. on\\n                        ', '') for x in wt['date']]\n",
    "wt['date'] = [parse(x) for x in wt['date']]"
   ]
  },
  {
   "cell_type": "code",
   "execution_count": 199,
   "metadata": {},
   "outputs": [],
   "source": [
    "ap['date'] = [x.split('T')[0] for x in ap['date']]"
   ]
  },
  {
   "cell_type": "code",
   "execution_count": 200,
   "metadata": {},
   "outputs": [],
   "source": [
    "nbc = nbc.copy().dropna()\n",
    "nbc['date'] = [parse(x) for x in nbc['date']]"
   ]
  },
  {
   "cell_type": "code",
   "execution_count": 201,
   "metadata": {},
   "outputs": [],
   "source": [
    "buzzfeed['date'] = [x.replace('Posted on ', '').replace('Last updated on ', '') for x in buzzfeed['date']]\n",
    "buzzfeed['date'] = [x.strip() for x in buzzfeed['date']]\n",
    "buzzfeed['date'] = [x.split(',')[0:2] for x in buzzfeed['date']]\n",
    "buzzfeed['date'] = [''.join(x) for x in buzzfeed['date']]\n",
    "buzzfeed['date'] = [parse(x) for x in buzzfeed['date']]"
   ]
  },
  {
   "cell_type": "markdown",
   "metadata": {},
   "source": [
    "#### Merge"
   ]
  },
  {
   "cell_type": "code",
   "execution_count": 210,
   "metadata": {},
   "outputs": [],
   "source": [
    "full_data = pd.concat([\n",
    "    breitbart,\n",
    "    fox,\n",
    "    wt,\n",
    "    ap,\n",
    "    nbc,\n",
    "    nyt,\n",
    "    politico,\n",
    "    buzzfeed\n",
    "])"
   ]
  },
  {
   "cell_type": "markdown",
   "metadata": {},
   "source": [
    "#### Articles to sentences"
   ]
  },
  {
   "cell_type": "code",
   "execution_count": 211,
   "metadata": {},
   "outputs": [],
   "source": [
    "text = full_data['article_text'].copy().str.split('.').apply(pd.Series, 1).stack()"
   ]
  },
  {
   "cell_type": "code",
   "execution_count": 212,
   "metadata": {},
   "outputs": [],
   "source": [
    "text.index = text.index.droplevel(-1) \n",
    "text.name = 'article_text'"
   ]
  },
  {
   "cell_type": "code",
   "execution_count": 213,
   "metadata": {},
   "outputs": [],
   "source": [
    "text.replace('', np.nan, inplace = True)\n",
    "text.dropna(inplace = True)"
   ]
  },
  {
   "cell_type": "code",
   "execution_count": 214,
   "metadata": {},
   "outputs": [],
   "source": [
    "sentence_data = full_data.copy()\n",
    "del sentence_data['article_text']\n",
    "sentence_data = sentence_data.join(test)"
   ]
  },
  {
   "cell_type": "markdown",
   "metadata": {},
   "source": [
    "#### Find candidates"
   ]
  },
  {
   "cell_type": "code",
   "execution_count": 222,
   "metadata": {},
   "outputs": [],
   "source": [
    "candidates = ['Biden', 'Bernie', 'Sanders', 'Warren', 'Trump',\n",
    "             'Klobuchar', 'Buttigieg', 'Yang', 'Bloomberg',\n",
    "             'Gabbard', 'Steyer', 'Deval', 'Bennet']"
   ]
  },
  {
   "cell_type": "code",
   "execution_count": null,
   "metadata": {},
   "outputs": [],
   "source": []
  },
  {
   "cell_type": "code",
   "execution_count": null,
   "metadata": {},
   "outputs": [],
   "source": []
  }
 ],
 "metadata": {
  "kernelspec": {
   "display_name": "Python 3",
   "language": "python",
   "name": "python3"
  },
  "language_info": {
   "codemirror_mode": {
    "name": "ipython",
    "version": 3
   },
   "file_extension": ".py",
   "mimetype": "text/x-python",
   "name": "python",
   "nbconvert_exporter": "python",
   "pygments_lexer": "ipython3",
   "version": "3.6.4"
  }
 },
 "nbformat": 4,
 "nbformat_minor": 2
}
