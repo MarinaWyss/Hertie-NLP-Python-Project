{
 "cells": [
  {
   "cell_type": "code",
   "execution_count": 2,
   "metadata": {},
   "outputs": [],
   "source": [
    "import pandas as pd\n",
    "import numpy as np\n",
    "import re"
   ]
  },
  {
   "cell_type": "code",
   "execution_count": 156,
   "metadata": {},
   "outputs": [],
   "source": [
    "class BERT():\n",
    "    \n",
    "    def __init__(self):\n",
    "        self.candidates = ['Trump', 'Bernie', 'Sanders', 'Biden', 'Warren', 'Buttigieg', 'Bloomberg', \n",
    "                           'Klobuchar', 'Yang', 'Steyer', 'Gabbard']\n",
    "        self._data = pd.read_csv('data/sentence_data.csv')[['article_text']]\n",
    "\n",
    "    def data(self):\n",
    "        data = self._data.copy()\n",
    "        \n",
    "        # add labels\n",
    "        data['label'] = data['article_text'].str.extract('({})'.format('|'.join(self.candidates)), \n",
    "                            flags = re.IGNORECASE, expand = False).str.lower().fillna('')\n",
    "        data['label'] = np.where(data['label'].str.contains('bernie'), 'sanders', data['label'])\n",
    "\n",
    "        # remove candidate names\n",
    "        data['article_text'] = data['article_text'].str.replace('Donald', '[candidate]')\n",
    "        data['article_text'] = data['article_text'].str.replace('Trump', '[candidate]')\n",
    "        data['article_text'] = data['article_text'].str.replace('Bernie', '[candidate]')\n",
    "        data['article_text'] = data['article_text'].str.replace('Sanders', '[candidate]')\n",
    "        data['article_text'] = data['article_text'].str.replace('Joe', '[candidate]')\n",
    "        data['article_text'] = data['article_text'].str.replace('Biden', '[candidate]')\n",
    "        data['article_text'] = data['article_text'].str.replace('Elizabeth', '[candidate]')\n",
    "        data['article_text'] = data['article_text'].str.replace('Warren', '[candidate]')\n",
    "        data['article_text'] = data['article_text'].str.replace('Andrew', '[candidate]')\n",
    "        data['article_text'] = data['article_text'].str.replace('Yang', '[candidate]')\n",
    "        data['article_text'] = data['article_text'].str.replace('Tom', '[candidate]')\n",
    "        data['article_text'] = data['article_text'].str.replace('Steyer', '[candidate]')\n",
    "        data['article_text'] = data['article_text'].str.replace('Tulsi', '[candidate]')\n",
    "        data['article_text'] = data['article_text'].str.replace('Gabbard', '[candidate]')\n",
    "\n",
    "        self._data = data\n",
    "        \n",
    "        return self._data"
   ]
  },
  {
   "cell_type": "code",
   "execution_count": 157,
   "metadata": {},
   "outputs": [],
   "source": [
    "self = BERT()"
   ]
  }
 ],
 "metadata": {
  "kernelspec": {
   "display_name": "Python 3",
   "language": "python",
   "name": "python3"
  }
 },
 "nbformat": 4,
 "nbformat_minor": 2
}
